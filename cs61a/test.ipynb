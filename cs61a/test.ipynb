{
 "cells": [
  {
   "cell_type": "code",
   "execution_count": null,
   "metadata": {},
   "outputs": [],
   "source": [
    "from operator import add, mul, mod\n",
    "\n",
    "def lambda_curry2(func):\n",
    "\n",
    "\n",
    "    return lambda x: lambda y: func(x, y)\n",
    "\n",
    "\n",
    "add3 = lambda_curry2(add)\n",
    "r1 = add3(1)(2)\n",
    "print(r1)\n",
    "print(1)"
   ]
  },
  {
   "cell_type": "code",
   "execution_count": null,
   "metadata": {},
   "outputs": [],
   "source": [
    "2*2*(2*4-3)"
   ]
  },
  {
   "cell_type": "code",
   "execution_count": null,
   "metadata": {},
   "outputs": [],
   "source": [
    "def lambda_curry2(func):\n",
    "    \"\"\"\n",
    "    Returns a Curried version of a two-argument function FUNC.\n",
    "    >>> from operator import add, mul, mod\n",
    "    >>> curried_add = lambda_curry2(add)\n",
    "    >>> add_three = curried_add(3)\n",
    "    >>> add_three(5)\n",
    "    8\n",
    "    >>> curried_mul = lambda_curry2(mul)\n",
    "    >>> mul_5 = curried_mul(5)\n",
    "    >>> mul_5(42)\n",
    "    210\n",
    "    >>> lambda_curry2(mod)(123)(10)\n",
    "    3\n",
    "    \"\"\"\n",
    "    \"*** YOUR CODE HERE ***\"\n",
    "    return lambda x: lambda y: func(x, y)\n",
    "\n",
    "\n",
    "\n",
    "def count_cond(condition):\n",
    "    \"\"\"Returns a function with one parameter N that counts all the numbers from\n",
    "    1 to N that satisfy the two-argument predicate function Condition, where\n",
    "    the first argument for Condition is N and the second argument is the\n",
    "    number from 1 to N.\n",
    "\n",
    "    >>> count_factors = count_cond(lambda n, i: n % i == 0)\n",
    "    >>> count_factors(2)   # 1, 2\n",
    "    2\n",
    "    >>> count_factors(4)   # 1, 2, 4\n",
    "    3\n",
    "    >>> count_factors(12)  # 1, 2, 3, 4, 6, 12\n",
    "    6\n",
    "\n",
    "    >>> is_prime = lambda n, i: count_factors(i) == 2\n",
    "    >>> count_primes = count_cond(is_prime)\n",
    "    >>> count_primes(2)    # 2\n",
    "    1\n",
    "    >>> count_primes(3)    # 2, 3\n",
    "    2\n",
    "    >>> count_primes(4)    # 2, 3\n",
    "    2\n",
    "    >>> count_primes(5)    # 2, 3, 5\n",
    "    3\n",
    "    >>> count_primes(20)   # 2, 3, 5, 7, 11, 13, 17, 19\n",
    "    8\n",
    "    \"\"\"\n",
    "    \"*** YOUR CODE HERE ***\"\n",
    "    def f(n):\n",
    "        print(n)\n",
    "        i, count = 1, 0\n",
    "        while i <= n: \n",
    "            if condition(n, i):\n",
    "                count += 1\n",
    "                print(i)\n",
    "            i += 1\n",
    "            \n",
    "        return count\n",
    "\n",
    "    return f\n",
    "\n",
    "\n",
    "count_factors = count_cond(lambda n, i: n % i == 0)\n",
    "\n",
    "print(count_factors(4))"
   ]
  },
  {
   "cell_type": "code",
   "execution_count": null,
   "metadata": {},
   "outputs": [],
   "source": [
    "def f(x):\n",
    "    return x + 3\n",
    "\n",
    "def g(x):\n",
    "    return x ** 2\n",
    "\n",
    "def h(x):\n",
    "    return g(f(x))\n",
    "\n",
    "def m(x):\n",
    "    return f(g(x))\n",
    "\n",
    "print(h(2))\n",
    "print(m(2))"
   ]
  },
  {
   "cell_type": "code",
   "execution_count": null,
   "metadata": {},
   "outputs": [],
   "source": [
    "def cascade(n):\n",
    "\n",
    "    if n < 10:\n",
    "        print(n)\n",
    "    else:\n",
    "        print(n)\n",
    "        cascade(n // 10)\n",
    "        print(n)\n",
    "\n",
    "\n",
    "cascade(1254)\n"
   ]
  },
  {
   "cell_type": "code",
   "execution_count": null,
   "metadata": {},
   "outputs": [],
   "source": [
    "str = 'fkgbn fgblf'\n",
    "\n",
    "print(str.strip())"
   ]
  },
  {
   "cell_type": "code",
   "execution_count": null,
   "metadata": {},
   "outputs": [],
   "source": [
    "sum([[1], [2], [3, [5, [6]]]], [])"
   ]
  },
  {
   "cell_type": "code",
   "execution_count": null,
   "metadata": {},
   "outputs": [],
   "source": [
    "def both_paths(sofar='S'):\n",
    "\n",
    "    print(sofar)\n",
    "    def up():\n",
    "        return both_paths(sofar + 'U')\n",
    "    def down(sofar):\n",
    "        return both_paths(sofar + 'D')\n",
    "    \n",
    "    return up, down"
   ]
  },
  {
   "cell_type": "code",
   "execution_count": null,
   "metadata": {},
   "outputs": [],
   "source": [
    "up, down = both_paths()"
   ]
  },
  {
   "cell_type": "code",
   "execution_count": null,
   "metadata": {},
   "outputs": [],
   "source": [
    "a = up()"
   ]
  },
  {
   "cell_type": "code",
   "execution_count": null,
   "metadata": {},
   "outputs": [],
   "source": [
    "lst = [1, 2, 3]\n",
    "\n",
    "for i in range(len(lst)):\n",
    "    print(lst[i])\n",
    "\n",
    "\n",
    "print(lst)"
   ]
  },
  {
   "cell_type": "code",
   "execution_count": null,
   "metadata": {},
   "outputs": [],
   "source": [
    "a = [1, 2, 3]\n",
    "\n",
    "a[:-1]"
   ]
  },
  {
   "cell_type": "code",
   "execution_count": null,
   "metadata": {},
   "outputs": [],
   "source": [
    "def wears_jacket_with_if(temp, raining):\n",
    "    if temp < 60 or raining == True:\n",
    "        return True\n",
    "    else:\n",
    "        return False\n",
    "    \n",
    "\n",
    "def wears_jacket(temp, raining):\n",
    "\n",
    "    return (temp < 60) | (raining == True)"
   ]
  },
  {
   "cell_type": "code",
   "execution_count": null,
   "metadata": {},
   "outputs": [],
   "source": [
    "def square(x):\n",
    "    print(\"here!\")\n",
    "    return x * x\n",
    "def so_slow(num):\n",
    "    x = num\n",
    "    while x > 0:\n",
    "        x = x + 1\n",
    "    return x / 0\n",
    "square(so_slow(5))\n"
   ]
  },
  {
   "cell_type": "code",
   "execution_count": null,
   "metadata": {},
   "outputs": [],
   "source": [
    "a = [1, 2, 3]\n",
    "b = [1, 2, 3]\n",
    "\n",
    "c = zip(a, b)\n",
    "print(c)"
   ]
  },
  {
   "cell_type": "code",
   "execution_count": null,
   "metadata": {},
   "outputs": [],
   "source": [
    "list(c)"
   ]
  },
  {
   "cell_type": "code",
   "execution_count": null,
   "metadata": {},
   "outputs": [],
   "source": [
    "def g(n):\n",
    "\n",
    "    if n <= 3:\n",
    "        return n\n",
    "    else:\n",
    "        i = 3\n",
    "        first, mid, last = 1, 2, 3\n",
    "        while i < n:\n",
    "            first, mid, last = mid, last, 3 * first + 2 * mid + 1 * last\n",
    "            i += 1\n",
    "        return last\n",
    "    \n",
    "\n",
    "g(5)"
   ]
  },
  {
   "cell_type": "code",
   "execution_count": null,
   "metadata": {},
   "outputs": [],
   "source": [
    "from operator import sub, mul\n",
    "def anonymous_factorial():\n",
    "    return (lambda f:lambda x: f(f, x))(lambda f, n: 1 if n == 0 else mul(n, f(f, n - 1)))\n",
    "\n",
    "anonymous_factorial()(5)"
   ]
  },
  {
   "cell_type": "code",
   "execution_count": null,
   "metadata": {},
   "outputs": [],
   "source": [
    "a = []\n",
    "for i in range(10):\n",
    "    a.append(i)\n",
    "\n",
    "print(a)"
   ]
  },
  {
   "cell_type": "code",
   "execution_count": null,
   "metadata": {},
   "outputs": [],
   "source": [
    "import cProfile\n",
    "\n",
    "\n",
    "def is_prime(num):\n",
    "    for factor in range(2, int(num ** 0.5) + 1):\n",
    "        if num % factor == 0:\n",
    "            return False\n",
    "    return True\n",
    "\n",
    "\n",
    "class PrimeIter:\n",
    "\n",
    "    def __init__(self, total):\n",
    "        self.counter = 0\n",
    "        self.current = 1\n",
    "        self.total = total\n",
    "\n",
    "    def __iter__(self):\n",
    "        return self\n",
    "\n",
    "    def __next__(self):\n",
    "        if self.counter < self.total:\n",
    "            self.current += 1\n",
    "            while not is_prime(self.current):\n",
    "                self.current += 1\n",
    "            self.counter += 1\n",
    "            return self.current\n",
    "        raise StopIteration()\n",
    "\n",
    "        \n",
    "cProfile.run('list(PrimeIter(10000))')"
   ]
  },
  {
   "cell_type": "code",
   "execution_count": null,
   "metadata": {},
   "outputs": [],
   "source": [
    "def insert_into_all(item, nested_list):\n",
    "    \"\"\"Assuming that nested_list is a list of lists, return a new list\n",
    "    consisting of all the lists in nested_list, but with item added to\n",
    "    the front of each.\n",
    "\n",
    "    >>> nl = [[], [1, 2], [3]]\n",
    "    >>> insert_into_all(0, nl)\n",
    "    [[0], [0, 1, 2], [0, 3]]\n",
    "    \"\"\"\n",
    "    return [[item] + x for x in nested_list]\n",
    "\n",
    "nl = [[], [1, 2], [3]]\n",
    "insert_into_all(0, nl)"
   ]
  },
  {
   "cell_type": "code",
   "execution_count": null,
   "metadata": {},
   "outputs": [],
   "source": [
    "def merge(incr_a, incr_b):\n",
    "\n",
    "    iter_a, iter_b = iter(incr_a, incr_b)\n",
    "    next_a, next_b = next(iter_a, None), next(iter_b, None)\n",
    "\n",
    "    while next_a is not None or next_b is not None:\n",
    "        if next_a == None:\n",
    "            yield next_b\n",
    "            next_b = next(iter_b, None)\n",
    "        elif next_b == None:\n",
    "            yield next_a\n",
    "            next_a = next(iter_a, None)\n",
    "        else:\n",
    "            if next_a < next_b:\n",
    "                yield next_a\n",
    "                next_a = next(iter_a, None)\n",
    "            elif next_a > next_b:\n",
    "                yield next_b\n",
    "                next_b = next(iter_b, None)\n",
    "            else:\n",
    "                yield next_a\n",
    "                next_a, next_b = next(iter_a, None), next(iter_b, None)\n",
    "    "
   ]
  },
  {
   "cell_type": "code",
   "execution_count": null,
   "metadata": {},
   "outputs": [],
   "source": [
    "def microscope(a=0, s=1):\n",
    "    \"\"\"\n",
    "    This function returns a painting function that processes a sequence\n",
    "    of integers, and returns the alternating sum of all integers seen thus\n",
    "    far (see doctest for an example).\n",
    "\n",
    "    >>> painting_a = microscope()\n",
    "    >>> painting_b, x = painting_a(2)\n",
    "    >>> x                                   # 2\n",
    "    2\n",
    "    >>> painting_c, x = painting_b(8)\n",
    "    >>> x                                   # 2 - 8\n",
    "    -6\n",
    "    >>> painting_d, x = painting_c(12)\n",
    "    >>> x                                   # 2 - 8 + 12\n",
    "    6\n",
    "    >>> painting_e, x = painting_d(30)\n",
    "    >>> x                                   # 2 - 8 + 12 - 30\n",
    "    -24\n",
    "    >>> painting_b_again, x = painting_a(100)\n",
    "    >>> x                                   # 100 [note that we are using painting_a not painting_d here]\n",
    "    100\n",
    "    \"\"\"\n",
    "    def painting(x):\n",
    "        return microscope(a + s * x, s * -1), a + s * x\n",
    "    return painting\n",
    "\n",
    "painting_a = microscope()\n",
    "painting_b, x = painting_a(2)\n",
    "painting_c, x = painting_b(8)\n",
    "x"
   ]
  },
  {
   "cell_type": "code",
   "execution_count": null,
   "metadata": {},
   "outputs": [],
   "source": [
    "a = [1, 2, 3]\n",
    "iterator = iter(a)\n",
    "\n",
    "def for_fun(iterator):\n",
    "    try:\n",
    "        while True:\n",
    "            print(next(iterator))\n",
    "    except StopIteration:\n",
    "        pass\n",
    "\n",
    "for_fun(iterator)"
   ]
  },
  {
   "cell_type": "code",
   "execution_count": null,
   "metadata": {},
   "outputs": [],
   "source": [
    "\"\"\"Tree abstruction\"\"\"\n",
    "def tree(label, branches=[]):\n",
    "    \"\"\"Constrcut a tree\"\"\"\n",
    "    for b in branches:\n",
    "        assert is_tree(b), 'branches must be a tree'\n",
    "    return [label] + list(branches)\n",
    "\n",
    "def label(t):\n",
    "    \"\"\"Selector: get the label of tree\"\"\"\n",
    "    return t[0]\n",
    "\n",
    "def branches(t):\n",
    "    \"\"\"Selector: get the branches of tree\"\"\"\n",
    "    return t[1:]\n",
    "\n",
    "def is_tree(t):\n",
    "    \"\"\"Judge a input is a tree\"\"\"\n",
    "    if type(t) != list or len(t) < 1:\n",
    "        return False\n",
    "    for b in branches(t):\n",
    "        if not is_tree(b):\n",
    "            return False\n",
    "    return True\n",
    "\n",
    "def is_leaf(t):\n",
    "    return not branches(t)\n",
    "\n",
    "a = [1, [2, [3, [4]]], [2, [2, [2]]], [6]]\n",
    "is_tree(a)\n",
    "branches(a)\n",
    "def print_tree(t):\n",
    "    print([label(t)])\n",
    "    b = branches(t)\n",
    "    for x in b:\n",
    "        print(x)\n",
    "    \n",
    "#print_tree(a)\n",
    "#print(branches(a))\n",
    "\n",
    "def print_tree2(t, indent=0):\n",
    "    print('     ' * indent + str(label(t)))\n",
    "    for b in branches(t):\n",
    "        print_tree2(b, indent + 1)\n",
    "\n",
    "#print_tree2(a)\n",
    "b = [1, [1, [11], [11]], [2, [22], [22]], [3, [33], [33]]]\n",
    "#print_tree2(b)\n",
    "c = tree(1, [tree(1, [tree(22)]), tree(1, tree(33))])\n",
    "is_tree(c)\n",
    "print_tree2(c)"
   ]
  },
  {
   "cell_type": "code",
   "execution_count": null,
   "metadata": {},
   "outputs": [],
   "source": [
    "def tree(label, branches=[]):\n",
    "    for b in branches:\n",
    "        assert is_tree(b), 'branch must a tree'\n",
    "    return [label] + list(branches)\n",
    "\n",
    "def label(tree):\n",
    "    return tree[0]\n",
    "\n",
    "def branches(tree):\n",
    "    return tree[1:]\n",
    "\n",
    "def is_tree(tree):\n",
    "    if type(tree) != list or len(tree) < 1:\n",
    "        return False\n",
    "    for b in branches(tree):\n",
    "        if not is_tree(b):\n",
    "            return False\n",
    "    return True\n",
    "\n",
    "def is_leaf(tree):\n",
    "    return not branches(tree)\n",
    "\n",
    "def print_tree(tree, indent=0):\n",
    "    print('   ' * indent + str(label(tree)))\n",
    "    for b in branches(tree):\n",
    "        print_tree(b, indent + 1)\n",
    "\n",
    "a = [1, [2, [21], [22]], [3, [33], [34]], [4, [45]], [5]]\n",
    "print_tree(a)"
   ]
  },
  {
   "cell_type": "code",
   "execution_count": null,
   "metadata": {},
   "outputs": [],
   "source": [
    "def fib_tree(n):\n",
    "    if n == 0 or n == 1:\n",
    "        return tree(n)\n",
    "    else:\n",
    "        left, right = fib_tree(n - 2), fib_tree(n - 1)\n",
    "        fib_n = label(left) + label(right)\n",
    "        return tree(fib_n, [left, right])\n",
    "    \n",
    "fib_tree(3)"
   ]
  },
  {
   "cell_type": "code",
   "execution_count": null,
   "metadata": {},
   "outputs": [],
   "source": [
    "def count_leaves(tree):\n",
    "    if is_leaf(tree):\n",
    "        return 1\n",
    "    else:\n",
    "        branches_count = [count_leaves(b) for b in branches(tree)]\n",
    "        return sum(branches_count)\n",
    "    \n",
    "count_leaves(fib_tree(4))"
   ]
  },
  {
   "cell_type": "code",
   "execution_count": null,
   "metadata": {},
   "outputs": [],
   "source": [
    "\n",
    "def partition_tree(n, m):\n",
    "    if n == 0:\n",
    "        return tree(True)\n",
    "    elif n < 0 or m == 0:\n",
    "        return tree(False)\n",
    "    else:\n",
    "        left = partition_tree(n - m, m)\n",
    "        right = partition_tree(n, m - 1)\n",
    "        return tree(m, [left, right])\n",
    "    \n",
    "partition_tree(2, 2)\n",
    "\n",
    "# def print_part(tree, partition=[]):\n",
    "#     if is_leaf(tree):\n",
    "#         if label(tree):\n",
    "#             print(' + '.join(partition))\n",
    "#     else:\n",
    "#         left, right = branches(tree)\n",
    "#         m = str(label(tree))\n",
    "#         print_part(left, partition + [m])\n",
    "#         print_part(right, partition)\n",
    "def print_parts(tree, partition=[]):\n",
    "        if is_leaf(tree):\n",
    "            if label(tree):\n",
    "                print(' + '.join(partition))\n",
    "        else:\n",
    "            left, right = branches(tree)\n",
    "            m = str(label(tree))\n",
    "            print_parts(left, partition + [m])\n",
    "            print_parts(right, partition)\n",
    "\n",
    "print_parts(partition_tree(6, 4))"
   ]
  },
  {
   "cell_type": "code",
   "execution_count": null,
   "metadata": {},
   "outputs": [],
   "source": [
    "str(125)"
   ]
  },
  {
   "cell_type": "code",
   "execution_count": null,
   "metadata": {},
   "outputs": [],
   "source": [
    "empty = 'empty'\n",
    "def is_link(s):\n",
    "    return s == empty or (len(s) == 2 and is_link(s[1]))\n",
    "\n",
    "def link(first, rest):\n",
    "    assert is_link(rest), 'rest must be linked list'\n",
    "    return [first, rest]\n",
    "\n",
    "def first(s):\n",
    "    assert is_link(s)\n",
    "    assert s != empty\n",
    "    return s[0]\n",
    "\n",
    "def rest(s):\n",
    "    assert is_link(s)\n",
    "    assert s!= empty\n",
    "    return s[1]\n",
    "\n",
    "def len_link_recursive(s):\n",
    "    if s == empty:\n",
    "        return 0\n",
    "    else:\n",
    "        return 1 + len_link_recursive(rest(s))\n",
    "    \n",
    "def getitem_link_recursive(s, i):\n",
    "    if i == 0:\n",
    "        return first(s)\n",
    "    else:\n",
    "        return getitem_link_recursive(rest(s), i - 1)\n",
    "    \n",
    "def getitem_link(s, i):\n",
    "    while i > 0:\n",
    "        s, i = rest(s), i - 1\n",
    "    return first(s)\n",
    "\n",
    "three = [1, 'empty']\n",
    "\n",
    "four = link(1, link(2, link(3, link(4, empty))))\n",
    "getitem_link(four, 2)"
   ]
  },
  {
   "cell_type": "code",
   "execution_count": null,
   "metadata": {},
   "outputs": [],
   "source": [
    "def extend_link(s, t):\n",
    "    assert is_link(s) and is_link(t)\n",
    "    if s == empty:\n",
    "        return t \n",
    "    else:\n",
    "        return link(first(s), extend_link(rest(s), t))\n",
    "    \n",
    "print(extend_link(four, four))\n",
    "\n",
    "def apply_to_all_link(f, s):\n",
    "    assert is_link(s)\n",
    "    if s == empty:\n",
    "        return s \n",
    "    else:\n",
    "        return link(f(first(s)), apply_to_all_link(f, rest(s)))\n",
    "\n",
    "print(apply_to_all_link(lambda x: x * x, four))\n",
    "\n",
    "def keep_if_link(f, s):\n",
    "    assert is_link(s)\n",
    "    if s == empty:\n",
    "        return s \n",
    "    else:\n",
    "        if f(first(s)):\n",
    "            return link(first(s), keep_if_link(f, rest(s)))\n",
    "        else:\n",
    "            return keep_if_link(f, rest(s))\n",
    "        \n",
    "print(keep_if_link(lambda x : x % 2 == 0, four))\n",
    "\n",
    "def join_link(s, separator):\n",
    "    if s == empty:\n",
    "        return ''\n",
    "    elif rest(s) == empty:\n",
    "        return str(first(s))\n",
    "    else:\n",
    "        return str(first(s)) + separator + join_link(rest(s), separator)\n",
    "    \n",
    "\n",
    "join_link(four, ', ')"
   ]
  },
  {
   "cell_type": "code",
   "execution_count": null,
   "metadata": {},
   "outputs": [],
   "source": []
  },
  {
   "cell_type": "code",
   "execution_count": null,
   "metadata": {},
   "outputs": [],
   "source": [
    "str(154)"
   ]
  },
  {
   "cell_type": "code",
   "execution_count": null,
   "metadata": {},
   "outputs": [],
   "source": [
    "def sequence(n, term):\n",
    "\n",
    "    t, k = 0, 1\n",
    "    while k <= n:\n",
    "        m = 1\n",
    "        x = term(k)\n",
    "        while m <= x:\n",
    "            m = m * 10\n",
    "        t = t * m + x   \n",
    "        k = k + 1\n",
    "    return t\n",
    "\n",
    "sequence(3, abs)"
   ]
  },
  {
   "cell_type": "code",
   "execution_count": null,
   "metadata": {},
   "outputs": [],
   "source": [
    "class Link:\n",
    "    \"\"\"Using class to present Linked List\"\"\"\n",
    "    empty = ()\n",
    "    def __init__(self, first, rest=empty):\n",
    "        assert rest == Link.empty or isinstance(rest, Link), 'rest must be Link type or empty'\n",
    "        self.first = first\n",
    "        self.rest = rest\n",
    "\n",
    "    def __repr__(self):\n",
    "        if self.rest != Link.empty:\n",
    "            rest_repr = ', ' + repr(self.rest)\n",
    "        else:\n",
    "            rest_repr = ''\n",
    "        return 'Link(' + repr(self.first) + rest_repr + ')'\n",
    "\n",
    "    def __str__(self):\n",
    "        string = '<'\n",
    "        while self.rest != Link.empty:\n",
    "            string += str(self.first) + ' '\n",
    "            self = self.rest \n",
    "        return string + str(self.first) + '>'\n",
    "\n",
    "link = Link(165, Link(541, Link(425)))\n",
    "link\n",
    "#print(link)"
   ]
  },
  {
   "cell_type": "code",
   "execution_count": null,
   "metadata": {},
   "outputs": [],
   "source": [
    "class Link:\n",
    "\n",
    "    empty = ()\n",
    "    def __init__(self, first, rest=empty):\n",
    "        assert rest is Link.empty or isinstance(rest, Link)\n",
    "        self.first = first\n",
    "        self.rest = rest \n",
    "\n",
    "    def __getitem__(self, i):\n",
    "        if i == 0:\n",
    "            return self.first\n",
    "        else:\n",
    "            return self.rest[i - 1]\n",
    "    \n",
    "    def __len__(self):\n",
    "        return 1 + len(self.rest)\n",
    "    \n",
    "    def __repr__(self):\n",
    "        if self.rest is not Link.empty:\n",
    "            rest_repr = ', ' + repr(self.rest)\n",
    "        else:\n",
    "            rest_repr = ''\n",
    "        return 'Link(' + str(self.first) + rest_repr + ')'\n",
    "\n",
    "    def __str__(self):\n",
    "        string = '<'\n",
    "        while self.rest is not Link.empty:\n",
    "            string += str(self.first) + ' '\n",
    "            self = self.rest \n",
    "        return string + str(self.first) + '>'\n",
    "    \n",
    "\n",
    "link = Link(1, Link(2, Link(3)))\n",
    "print(link)\n",
    "link[2]"
   ]
  },
  {
   "cell_type": "code",
   "execution_count": null,
   "metadata": {},
   "outputs": [],
   "source": [
    "class Tree:\n",
    "    def __init__(self, label, branches=[]):\n",
    "        for branch in branches:\n",
    "            assert isinstance(branch, Tree)\n",
    "        self.label = label\n",
    "        self.branches = list(branches)\n",
    "\n",
    "    \n",
    "    def is_leaf(self):\n",
    "        return not self.branches\n",
    "    \n",
    "    def __repr__(self):\n",
    "        if self.branches:\n",
    "            return 'Tree({0}, {1})'.format(self.label, self.branches)\n",
    "        else:\n",
    "            return 'Tree({0})'.format(self.label)\n",
    "    \n",
    "    def __str__(self):\n",
    "        def print_tree(t, indent=0):\n",
    "            str_tree = '    ' * indent + str(t.label)  +  '\\n'\n",
    "            for b in t.branches:\n",
    "                str_tree += print_tree(b, indent + 1)\n",
    "            return str_tree\n",
    "        return print_tree(self)\n",
    "\n",
    "    def map(self, fn):\n",
    "        self.label = fn(self.label)\n",
    "        for b in self.branches:\n",
    "            b.map(fn)\n",
    "    \n",
    "    def __contains__(self, value):\n",
    "        if self.label == value:\n",
    "            return True\n",
    "        for b in self.branches:\n",
    "            if value in b:\n",
    "                return True\n",
    "        return False\n",
    "    \n",
    "t = Tree(1, [Tree(2, [Tree(21)]), Tree(3)])\n",
    "#print(t)\n",
    "t.map(lambda x : x * x)\n",
    "t"
   ]
  },
  {
   "cell_type": "code",
   "execution_count": null,
   "metadata": {},
   "outputs": [],
   "source": [
    "def gcd(n, d):\n",
    "    n, d = max(n, d), min(n, d)\n",
    "    remiander = n % d\n",
    "    while remiander != 0:\n",
    "        n, d, remiander = d, remiander, n % d\n",
    "    return d \n",
    "\n",
    "gcd(12, 8)"
   ]
  },
  {
   "cell_type": "code",
   "execution_count": 2,
   "metadata": {},
   "outputs": [
    {
     "ename": "ModuleNotFoundError",
     "evalue": "No module named 'matplotlib'",
     "output_type": "error",
     "traceback": [
      "\u001b[0;31m---------------------------------------------------------------------------\u001b[0m",
      "\u001b[0;31mModuleNotFoundError\u001b[0m                       Traceback (most recent call last)",
      "Cell \u001b[0;32mIn[2], line 1\u001b[0m\n\u001b[0;32m----> 1\u001b[0m \u001b[38;5;28;01mimport\u001b[39;00m \u001b[38;5;21;01mmatplotlib\u001b[39;00m\u001b[38;5;21;01m.\u001b[39;00m\u001b[38;5;21;01mpyplot\u001b[39;00m \u001b[38;5;28;01mas\u001b[39;00m \u001b[38;5;21;01mplt\u001b[39;00m\n\u001b[1;32m      2\u001b[0m squares \u001b[38;5;241m=\u001b[39m [\u001b[38;5;241m1\u001b[39m, \u001b[38;5;241m4\u001b[39m, \u001b[38;5;241m9\u001b[39m, \u001b[38;5;241m16\u001b[39m, \u001b[38;5;241m25\u001b[39m]\n\u001b[1;32m      3\u001b[0m plt\u001b[38;5;241m.\u001b[39mplot(squares)\n",
      "\u001b[0;31mModuleNotFoundError\u001b[0m: No module named 'matplotlib'"
     ]
    }
   ],
   "source": [
    "import matplotlib.pyplot as plt\n",
    "squares = [1, 4, 9, 16, 25]\n",
    "plt.plot(squares)\n",
    "plt.show()\n"
   ]
  },
  {
   "cell_type": "code",
   "execution_count": 2,
   "metadata": {},
   "outputs": [
    {
     "name": "stdout",
     "output_type": "stream",
     "text": [
      "5\n",
      "4\n",
      "3\n"
     ]
    }
   ],
   "source": [
    "for i in range(5, 2 , -1):\n",
    "    print(i)"
   ]
  },
  {
   "cell_type": "code",
   "execution_count": 1,
   "metadata": {},
   "outputs": [
    {
     "name": "stdout",
     "output_type": "stream",
     "text": [
      "0\n"
     ]
    }
   ],
   "source": [
    "index = 0\n",
    "print((int)((index - 1) / 2))"
   ]
  },
  {
   "cell_type": "code",
   "execution_count": 11,
   "metadata": {},
   "outputs": [
    {
     "name": "stdout",
     "output_type": "stream",
     "text": [
      "9223372036854775807\n"
     ]
    }
   ],
   "source": [
    "import sys \n",
    "maxVal = sys.maxsize\n",
    "print(maxVal)"
   ]
  },
  {
   "cell_type": "code",
   "execution_count": 15,
   "metadata": {},
   "outputs": [
    {
     "name": "stdout",
     "output_type": "stream",
     "text": [
      "18446744073709551616\n"
     ]
    }
   ],
   "source": [
    "print(2 << 63)"
   ]
  },
  {
   "cell_type": "code",
   "execution_count": 3,
   "metadata": {},
   "outputs": [
    {
     "name": "stdout",
     "output_type": "stream",
     "text": [
      "[0.         0.11111111 0.22222222 0.33333333 0.44444444 0.55555556\n",
      " 0.66666667 0.77777778 0.88888889 1.        ]\n"
     ]
    }
   ],
   "source": [
    "import numpy as np\n",
    "\n",
    "x = np.linspace(0, 1, 10)\n",
    "print(x)"
   ]
  },
  {
   "cell_type": "code",
   "execution_count": 9,
   "metadata": {},
   "outputs": [
    {
     "name": "stdout",
     "output_type": "stream",
     "text": [
      "[[0. 0.]\n",
      " [0. 0.]\n",
      " [0. 0.]]\n"
     ]
    }
   ],
   "source": [
    "x = np.zeros((3, 2))\n",
    "\n",
    "print(x)"
   ]
  },
  {
   "cell_type": "code",
   "execution_count": 13,
   "metadata": {},
   "outputs": [
    {
     "name": "stdout",
     "output_type": "stream",
     "text": [
      "[[94303747629517              0]\n",
      " [94289865230672 94289865281392]]\n",
      "[[0 0]\n",
      " [0 0]]\n"
     ]
    }
   ],
   "source": [
    "a = np.empty([2, 2], dtype=int)\n",
    "b = np.zeros((2, 2), dtype=int)\n",
    "print(a)\n",
    "print(b)"
   ]
  },
  {
   "cell_type": "code",
   "execution_count": 16,
   "metadata": {},
   "outputs": [
    {
     "name": "stdout",
     "output_type": "stream",
     "text": [
      "<class 'set'>\n",
      "<class 'set'>\n"
     ]
    }
   ],
   "source": [
    "a = {1, 2}\n",
    "print(type(a))\n",
    "b = set()\n",
    "print(type(b))"
   ]
  },
  {
   "cell_type": "code",
   "execution_count": 32,
   "metadata": {},
   "outputs": [
    {
     "name": "stdout",
     "output_type": "stream",
     "text": [
      "1\n",
      "2\n",
      "3\n",
      "None\n"
     ]
    }
   ],
   "source": [
    "class Queue:\n",
    "    def __init__(self):\n",
    "        self.queue = []\n",
    "    def add(self, e):\n",
    "        self.queue.append(e)\n",
    "    def pop(self):\n",
    "        if len(self.queue) == 0:\n",
    "            return None\n",
    "        res = self.queue[0]\n",
    "        self.queue = self.queue[1:]\n",
    "        return res\n",
    "\n",
    "queue = Queue()\n",
    "queue.add(1)\n",
    "queue.add(2)\n",
    "queue.add(3)\n",
    "b = queue.pop()\n",
    "print(b)\n",
    "b = queue.pop()\n",
    "print(b)\n",
    "b = queue.pop()\n",
    "print(b)\n",
    "b = queue.pop()\n",
    "print(b)"
   ]
  },
  {
   "cell_type": "code",
   "execution_count": null,
   "metadata": {},
   "outputs": [],
   "source": []
  }
 ],
 "metadata": {
  "kernelspec": {
   "display_name": "Python 3",
   "language": "python",
   "name": "python3"
  },
  "language_info": {
   "codemirror_mode": {
    "name": "ipython",
    "version": 3
   },
   "file_extension": ".py",
   "mimetype": "text/x-python",
   "name": "python",
   "nbconvert_exporter": "python",
   "pygments_lexer": "ipython3",
   "version": "3.10.12"
  }
 },
 "nbformat": 4,
 "nbformat_minor": 2
}
