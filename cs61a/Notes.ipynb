{
 "cells": [
  {
   "cell_type": "markdown",
   "metadata": {},
   "source": [
    "# UCB CS61A: Structure and Interpretation of Computer Programs"
   ]
  },
  {
   "cell_type": "markdown",
   "metadata": {},
   "source": [
    "## Chapter 1 : Building Abstractions with Functions\n",
    "### 1.1 Getting Started\n",
    "#### 1.1.5 Error\n",
    "- **Debugging**\n",
    "    - 1.Test incrementally: Every well-written program is composed of small, modular components that can be tested individually. *Try out everything you write as soon as possible* to identify problems early and gain confidence in your components.\n",
    "\n",
    "    - 2.Isolate errors: An error in the output of a statement can typically be attributed to a particular modular component. When trying to diagnose a problem, trace the error to the smallest fragment of code you can before trying to correct it.\n",
    "\n",
    "    - 3.Check your assumptions: Interpreters do carry out your instructions to the letter — no more and no less. Their output is unexpected when the behavior of some code does not match what the programmer believes (or assumes) that behavior to be. Know your assumptions, then focus your debugging effort on verifying that your assumptions actually hold.\n",
    "\n",
    "    - 4.Consult others: You are not alone! If you don't understand an error message, ask a friend, instructor, or search engine. If you have isolated an error, but can't figure out how to correct it, ask someone else to take a look. A lot of valuable programming knowledge is shared in the process of group problem solving.\n",
    "\n",
    "- Incremental testing, modular design, precise assumptions, and teamwork are themes that persist throughout this text. Hopefully, they will also persist throughout your computer science career."
   ]
  },
  {
   "cell_type": "markdown",
   "metadata": {},
   "source": [
    "### 1.2 Elements of Programming\n",
    "Every powerful language has three such mechanisms:\n",
    "- primitive expressions and statements, which represent the simplest building blocks that the language provides,\n",
    "- means of combination, by which compound elements are built from simpler ones, and\n",
    "- means of abstraction, by which compound elements can be named and manipulated as units.\n",
    "\n",
    "#### 1.2.2 Call Expressions\n",
    "One kind of primitive expression is a **number**.\n",
    "- Function notation has three principal advantages over the mathematical convention of infix notation:\n",
    "    - First, functions may take an arbitrary number of arguments, No ambiguity can arise, because the function name precedes its arguments\n",
    "    - Second, function notation extends in a straightforward way to nested expression, where the elements are themselves compound expression. In nested call expressions, unlike compound infix expressions, the structure of the nesting is entirely explicit in the parentheses.\n",
    "    - Third, mathematical notation has a great variety of forms: multiplication appears between terms, exponents appear as superscripts, division as a horizontal bar, and a square root as a roof with slanted siding. Some of this notation is very hard to type! However, all of this complexity can be unified via the notation of call expressions. While Python supports common mathematical operators using infix notation (like + and -), any operator can be expressed as a function with a name.\n"
   ]
  },
  {
   "cell_type": "markdown",
   "metadata": {},
   "source": [
    "#### 1.2.6 The Non-Pure Print Function\n",
    "- Pure funciton: Functions have some input(their arguments) and return some output(the result of applying them).\n",
    "Such as the built-in function: abs(-2)  \n",
    "Pure functions have the property that applying them has no effects beyond returning a value. Moreover, a pure function must always return the same value when called twice with the same arguments.\n",
    "- Non-pure functions: In addition to returning a value, applying a non-pure function can generate side effects, which make some change to the state of the interpreter or computer. A common side effect is to generate additional output beyond the return value, using the print function.  \n",
    "Such as **print** function, the printe returns is always **None**.\n",
    "```python\n",
    ">>>print(print(1), print(2))\n",
    "1\n",
    "2\n",
    "None None\n",
    "```\n",
    "- The advantage of **pure functions**:\n",
    "    - First, pure functions can be composed more reliably into compound call expressions. \n",
    "    - Second, pure functions tend to be simpler to test. A list of arguments will always lead to the same return value, which can be compared to the expected return value. \n",
    "    - Third, pure functions are essential for writing concurrent programs, in which multiple call expressions may be evaluated simultaneously."
   ]
  },
  {
   "cell_type": "markdown",
   "metadata": {},
   "source": [
    "### 1.3 Defining New Functions\n",
    "- The basic elements:\n",
    "    - 1.Numbers and arithmetic operations are primitive built-in data values and functions.\n",
    "    - 2.Nested function application provides a means of combining operations.\n",
    "    - 3.Binding names to values provides a limited means of abstraction.  \n",
    "Both def statements and assignment statements bind names to values, and any existing bindings are lost. For example, g below first refers to a function of no arguments, then a number, and then a different function of two arguments.\n",
    "```python\n",
    ">>> def g():\n",
    "    return 1\n",
    ">>> g()\n",
    "1\n",
    ">>> g = 2\n",
    ">>> g\n",
    "2\n",
    ">>> def g(h, i):\n",
    "    return h + i\n",
    ">>> g(1, 2)\n",
    "3\n",
    "```"
   ]
  },
  {
   "cell_type": "markdown",
   "metadata": {},
   "source": [
    "#### 1.3.1 Environments\n",
    "A description of the formal parameters of a function is called the function's signature.  \n",
    "All built-in functions will be rendered as <name>(...), because these primitive functions were never explicitly defined."
   ]
  },
  {
   "cell_type": "markdown",
   "metadata": {},
   "source": [
    "#### 1.3.2 Calling User-Defined Function\n",
    "Applying a user-defined function introduces a second local frame, which is only accessible to that function. To apply a user-defined function to some arguments:\n",
    "- 1.Bind the arguments to the names of the function's formal parameters in a new local frame.\n",
    "- 2.Execute the body of the function in the environment that starts with this frame."
   ]
  },
  {
   "cell_type": "markdown",
   "metadata": {},
   "source": [
    "#### 1.3.5 Choosing Names\n",
    "As a side effect of following these conventions, you will find that your code becomes more internally consistent.\n",
    "- Function names are lowercase, with words separated by underscores. Descriptive names are encouraged.\n",
    "- Function names typically evoke operations applied to arguments by the interpreter (e.g., print, add, square) or the name of the quantity that results (e.g., max, abs, sum).\n",
    "- Parameter names are lowercase, with words separated by underscores. Single-word names are preferred.\n",
    "- Parameter names should evoke the role of the parameter in the function, not just the kind of argument that is allowed.\n",
    "- Single letter parameter names are acceptable when their role is obvious, but avoid \"l\" (lowercase ell), \"O\" (capital oh), or \"I\" (capital i) to avoid confusion with numerals.\n"
   ]
  },
  {
   "cell_type": "markdown",
   "metadata": {},
   "source": [
    "#### 1.3.6 Functions as Abstractions\n",
    "To master the use of a functional abstraction, it is often useful to consider its three core attributes. \n",
    "- The domain of a function is the set of arguments it can take. \n",
    "- The range of a function is the set of values it can return. \n",
    "- The intent of a function is the relationship it computes between inputs and output (as well as any side effects it might generate). \n",
    "Understanding functional abstractions via their domain, range, and intent is critical to using them correctly in a complex program.  \n",
    "\n",
    "For example, any square function that we use to implement sum_squares should have these attributes:\n",
    "- The domain is any single real number.\n",
    "- The range is any non-negative real number.\n",
    "- The intent is that the output is the square of the input."
   ]
  },
  {
   "cell_type": "markdown",
   "metadata": {},
   "source": [
    "#### 1.3.7 Operators\n",
    "/ and // opeators can be expressed: truediv and floordiv in Python"
   ]
  },
  {
   "cell_type": "markdown",
   "metadata": {},
   "source": [
    "### 1.4 Designing Functions\n",
    "How to make a good funciton!\n",
    "- Each function should have exactly one job. That job should be identifiable with a short name and characterizable in a single line of text. Function that perform multiple jobs in sequence should be divided into multiple funcitons.\n",
    "- Don't repeat yourself is a central tenet of software engineering. Don't repeat yourself is a central tenet of software engineering. The so-called DRY principle states that multiple fragments of code should not describe redundant logic. Instead, that logic should be implemented once, given a name, and applied multiple times. If you find yourself copying and pasting a block of code, you have probably found an opportunity for functional abstraction.\n",
    "- Functions should be defined generally. Squaring is not in the Python Library precisely because it is a special case of the pow function, which raises numbers to arbitrary powers."
   ]
  },
  {
   "cell_type": "markdown",
   "metadata": {},
   "source": [
    "#### 1.4.1 Documentation\n",
    "A function definition will often include documentation describing the function, called a docstring, which must be indented along with the function body. Docstrings are conventionally triple quoted. The first line describes the job of the function in one line. The following lines can describe arguments and clarify the behavior of the function:\n"
   ]
  },
  {
   "cell_type": "code",
   "execution_count": 67,
   "metadata": {},
   "outputs": [
    {
     "name": "stdout",
     "output_type": "stream",
     "text": [
      "Help on function pressure in module __main__:\n",
      "\n",
      "pressure(v, t, n)\n",
      "    Compute the pressure in pascals of an ideal gas.\n",
      "    \n",
      "    Applies the ideal gas law: http://en.wikipedia.org/wiki/Ideal_gas_law\n",
      "    \n",
      "    v -- volume of gas, in cubic meters\n",
      "    t -- absolute temperature in degrees kelvin\n",
      "    n -- particles of gas\n",
      "\n"
     ]
    }
   ],
   "source": [
    "def pressure(v, t, n):\n",
    "        \"\"\"Compute the pressure in pascals of an ideal gas.\n",
    "\n",
    "        Applies the ideal gas law: http://en.wikipedia.org/wiki/Ideal_gas_law\n",
    "\n",
    "        v -- volume of gas, in cubic meters\n",
    "        t -- absolute temperature in degrees kelvin\n",
    "        n -- particles of gas\n",
    "        \"\"\"\n",
    "        k = 1.38e-23  # Boltzmann's constant\n",
    "        return n * k * t / v\n",
    "\n",
    "help(pressure)"
   ]
  },
  {
   "cell_type": "markdown",
   "metadata": {},
   "source": [
    "### 1.5 Control\n",
    "#### 1.5.2 Compound Statements\n",
    "Together, a header and an indented suite of statements is called a clause.  \n",
    "A compound statement consists of one or more clauses:\n",
    "```python\n",
    "<header>:\n",
    "    <statement>\n",
    "    <statement>\n",
    "    ...\n",
    "<separating header>:\n",
    "    <statement>\n",
    "    <statement>\n",
    "    ...\n",
    "...\n",
    "```"
   ]
  },
  {
   "cell_type": "markdown",
   "metadata": {},
   "source": [
    "#### 1.5.5 Iteration\n",
    "Executing statements repeatly. For example, the Fabonacci numbers."
   ]
  },
  {
   "cell_type": "code",
   "execution_count": 68,
   "metadata": {},
   "outputs": [
    {
     "name": "stdout",
     "output_type": "stream",
     "text": [
      "7778742049\n"
     ]
    }
   ],
   "source": [
    "def fib(n):\n",
    "    \"\"\"Compute the nth Fabonacci number using iteration statement.\"\"\"\n",
    "\n",
    "    pred, curr = 0, 1   # the first and second fibonacci number\n",
    "    k = 2               # the current number is the second fabonacci number\n",
    "    while k < n:\n",
    "        pred, curr = curr, pred + curr\n",
    "        k = k + 1\n",
    "    return curr\n",
    "\n",
    "print(fib(50))"
   ]
  },
  {
   "cell_type": "markdown",
   "metadata": {},
   "source": [
    "#### 1.5.6 Testing\n",
    "Testing a function is the act of verifying that the function's behavior matches expectations.  \n",
    "Tests typically take the form of another function that contains one or more sample calls to the function being tested.\n",
    "\n",
    "- Assrestions: Programmers use assert statements to verify expectations, such as the output of a function being tested.  \n",
    "As following seen.\n",
    "\n",
    "- We can use the doctest module to test our functions, such as testmod, run_docstring_examples that will ouput the test information in detail.\n",
    "\n",
    "- **we can use command line to test our function**  \n",
    "such as: *python3 -m doctest <python_source_file>*\n"
   ]
  },
  {
   "cell_type": "code",
   "execution_count": 69,
   "metadata": {},
   "outputs": [],
   "source": [
    "def test_fib():\n",
    "    \"\"\"Test function that testing the fibonacci function using the assert satements\"\"\"\n",
    "    assert fib(2) == 1, 'The 2nd Fibonacci number should be 1'\n",
    "    assert fib(3) == 1, 'The 3rd Fibonacci number should be 1'\n",
    "    assert fib(50) == 7778742049, 'Error at the 50th Fibonacci number'\n",
    "\n",
    "\n",
    "test_fib()"
   ]
  },
  {
   "cell_type": "markdown",
   "metadata": {},
   "source": [
    "### 1.6 Higher-Order Functions\n",
    "#### 1.6.1 Functions are Arguments\n",
    "- Such as: calculate the summation"
   ]
  },
  {
   "cell_type": "code",
   "execution_count": 70,
   "metadata": {},
   "outputs": [
    {
     "name": "stdout",
     "output_type": "stream",
     "text": [
      "55\n",
      "3.1415426535898203\n",
      "55\n"
     ]
    }
   ],
   "source": [
    "def summation(n, term):\n",
    "    \"\"\"calculte the summation according the number is return by term funciton\"\"\"\n",
    "\n",
    "    k, result = 1, 0\n",
    "    while k <= n:\n",
    "        result += term(k)\n",
    "        k += 1\n",
    "    return result\n",
    "\n",
    "def identity(x):\n",
    "    return x\n",
    "\n",
    "def square(x):\n",
    "    return x * x\n",
    "\n",
    "def cal_approx_pi(x):\n",
    "    return 8 / ((4 * x - 3) * (4 * x - 1))\n",
    "\n",
    "def sum_nuturals(n):\n",
    "    return summation(n, identity)\n",
    "\n",
    "print(sum_nuturals(10))\n",
    "print(summation(10000, cal_approx_pi))\n",
    "print(summation(5, square))"
   ]
  },
  {
   "cell_type": "markdown",
   "metadata": {},
   "source": [
    "#### 1.6.2 Functions as General Methods\n",
    "- Such as calculating the **golden ratio**"
   ]
  },
  {
   "cell_type": "code",
   "execution_count": 71,
   "metadata": {},
   "outputs": [
    {
     "name": "stdout",
     "output_type": "stream",
     "text": [
      "1.618033985017358\n"
     ]
    }
   ],
   "source": [
    "def improve(update, close, guess=1):\n",
    "    while not close(guess):\n",
    "        guess = update(guess)\n",
    "    return guess\n",
    "\n",
    "def golden_update(guess):\n",
    "    return 1 / guess + 1\n",
    "\n",
    "def square_close_to_successor(guess):\n",
    "    return approx_eq(guess * guess, guess + 1)\n",
    "\n",
    "def approx_eq(x, y, limit=1e-8):\n",
    "    return True if abs(x - y) < limit else False\n",
    "\n",
    "def get_golden_ratio():\n",
    "    return improve(golden_update, square_close_to_successor)\n",
    "\n",
    "print(get_golden_ratio())"
   ]
  },
  {
   "cell_type": "markdown",
   "metadata": {},
   "source": [
    "#### 1.6.3 Defining Functions III: Nested Definitions\n",
    "- The disadvantage of passing funcitons as arguments\n",
    "    - 1.This approach is that the global frame becomes cluttered with names of small functions, which must all be unique\n",
    "    - 2.We are constrained by particular function signatures: the update argument to improve must take exactly one argument\n",
    "- So, we can use nested function to address both of these problems\n",
    "- The **lexical scoping**\n",
    "    - 1.Each user-defined function has a parent environment: the environment in which it was defined.\n",
    "    - 2.When a user-defined function is called, its local frame extends its parent environment.\n",
    "    "
   ]
  },
  {
   "cell_type": "code",
   "execution_count": 72,
   "metadata": {},
   "outputs": [
    {
     "data": {
      "text/plain": [
       "16.00000000000039"
      ]
     },
     "execution_count": 72,
     "metadata": {},
     "output_type": "execute_result"
    }
   ],
   "source": [
    "def average(x, y):\n",
    "    return (x + y) / 2\n",
    "\n",
    "def sqrt(a):\n",
    "    def sqrt_update(x):\n",
    "        return average(x, a / x)\n",
    "    def sqrt_close(x):\n",
    "        return approx_eq(x * x, a)\n",
    "    return improve(sqrt_update, sqrt_close)\n",
    "\n",
    "\n",
    "sqrt(256)"
   ]
  },
  {
   "cell_type": "markdown",
   "metadata": {},
   "source": [
    "#### 1.6.4 Function as Returned Values\n"
   ]
  },
  {
   "cell_type": "code",
   "execution_count": 73,
   "metadata": {},
   "outputs": [
    {
     "data": {
      "text/plain": [
       "9"
      ]
     },
     "execution_count": 73,
     "metadata": {},
     "output_type": "execute_result"
    }
   ],
   "source": [
    "def square(x):\n",
    "    return x * x\n",
    "\n",
    "def successor(x):\n",
    "    return x + 1\n",
    "\n",
    "def compose1(f, g):\n",
    "    def h(x):\n",
    "        return f(g(x))\n",
    "    return h \n",
    "\n",
    "compose1(square, successor)(2)"
   ]
  },
  {
   "cell_type": "markdown",
   "metadata": {},
   "source": [
    "#### 1.6.5 Example: Newton's Method\n",
    "- Discription: Newton's method is a classic iterative approach to finding the arguments of a mathematical function that yield a return value of 0. These values are called the zeros of the function."
   ]
  },
  {
   "cell_type": "code",
   "execution_count": 74,
   "metadata": {},
   "outputs": [
    {
     "name": "stdout",
     "output_type": "stream",
     "text": [
      "2.8284271248385027\n",
      "8.00000000000017\n",
      "4.000000000076121\n",
      "2.0000000000000013\n",
      "256\n"
     ]
    }
   ],
   "source": [
    "def newton_update(f, df):\n",
    "    def update(x):\n",
    "        return x - f(x) / df(x)\n",
    "    return update\n",
    "\n",
    "def find_zero(f, df):\n",
    "    def near_zero(x):\n",
    "        return approx_eq(f(x), 0)\n",
    "    return improve(newton_update(f, df), near_zero)\n",
    "\n",
    "def square_root_newton(a):\n",
    "    def f(x):\n",
    "        return x * x - a \n",
    "    def df(x):\n",
    "        return 2 * x \n",
    "    return find_zero(f, df)  \n",
    "\n",
    "\n",
    "\"\"\"Find the nth root\"\"\"\n",
    "def power(x, n):\n",
    "    k, result = 1, 1\n",
    "    while k <= n:\n",
    "        result ,k = x * result, k + 1\n",
    "    return result\n",
    "\n",
    "def nth_root_newton(n, a):\n",
    "    def f(x):\n",
    "        return power(x, n) - a \n",
    "    def df(x):\n",
    "        return n * power(x, n - 1)\n",
    "    return find_zero(f, df)\n",
    "\n",
    "print(nth_root_newton(4, 64))\n",
    "print(nth_root_newton(2, 64))\n",
    "print(nth_root_newton(3, 64))\n",
    "print(nth_root_newton(6, 64))\n",
    "print(power(16, 2))"
   ]
  },
  {
   "cell_type": "markdown",
   "metadata": {},
   "source": [
    "#### 1.6.6 Currying \n",
    "- Using higher-order functions to convert a function that takes multiple arguments into a chain of functions that each take a single argument.More specifically, given a function f(x, y), we can define a function g such that g(x)(y) is equivalent to f(x, y). Here, g is a higher-order function that takes in a single argument x and returns another function that takes in a single argument y. This transformation is called currying."
   ]
  },
  {
   "cell_type": "code",
   "execution_count": 75,
   "metadata": {},
   "outputs": [
    {
     "name": "stdout",
     "output_type": "stream",
     "text": [
      "1\n",
      "2\n",
      "4\n",
      "8\n",
      "16\n"
     ]
    }
   ],
   "source": [
    "def curried_pow(x):\n",
    "    def h(y):\n",
    "        return pow(x, y)\n",
    "    return h \n",
    "\n",
    "def map_to_range(start, end, f):\n",
    "    while start < end:\n",
    "        print(f(start))\n",
    "        start += 1\n",
    "\n",
    "\n",
    "curried_pow(2)(3)\n",
    "map_to_range(0, 5, curried_pow(2))"
   ]
  },
  {
   "cell_type": "markdown",
   "metadata": {},
   "source": [
    "#### 1.6.7 Lambda Expressions\n",
    "#### 1.6.8 Abstractions and First-Class Functions\n",
    "- They may be bound to names.\n",
    "- They may be passed as arguments to functions.\n",
    "- They may be returned as the results of functions.\n",
    "- They may be included in data structures."
   ]
  },
  {
   "cell_type": "markdown",
   "metadata": {},
   "source": [
    "#### 1.6.9 Function Decorators\n",
    "Python provides special syntax to apply higher-order functions as part of executing a def statement, called a decorator. Perhaps the most common example is a trace.  \n",
    "The decorator symbol @ may also be followed by a call expression. The expression following @ is evaluated first (just as the name trace was evaluated above), the def statement second, and finally the result of evaluating the decorator expression is applied to the newly defined function, and the result is bound to the name in the def statement."
   ]
  },
  {
   "cell_type": "code",
   "execution_count": 76,
   "metadata": {},
   "outputs": [
    {
     "name": "stdout",
     "output_type": "stream",
     "text": [
      "--> <function triple at 0x7fa2303e3ac0> ( 12 )\n",
      "24\n",
      "--> <function add_one at 0x7fa2303e3880> ( 1 )\n",
      "2\n"
     ]
    }
   ],
   "source": [
    "def trace(fn):\n",
    "    def wrapped(x):\n",
    "        print('-->', fn, '(', x, ')')\n",
    "        return fn(x)\n",
    "    return wrapped\n",
    "\n",
    "@trace\n",
    "def add_one(x):\n",
    "    return x + 1\n",
    "\n",
    "@trace\n",
    "def triple(x):\n",
    "    return 2 * x\n",
    "\n",
    "print(triple(12))\n",
    "print(add_one(1))"
   ]
  },
  {
   "cell_type": "markdown",
   "metadata": {},
   "source": [
    "### 1.7 Recursive Functions\n",
    "- A function is called recursive if the body of the function calls the function itself, either directly or indirectly. "
   ]
  },
  {
   "cell_type": "code",
   "execution_count": 77,
   "metadata": {},
   "outputs": [
    {
     "data": {
      "text/plain": [
       "126"
      ]
     },
     "execution_count": 77,
     "metadata": {},
     "output_type": "execute_result"
    }
   ],
   "source": [
    "def sum_digit(n):\n",
    "    \"\"\"Return the sum of the digits of positive interger n.\"\"\"\n",
    "    if n < 10:\n",
    "        return n\n",
    "    else:\n",
    "        return n % 10 + sum_digit(n // 10)\n",
    "    \n",
    "sum_digit(11408855402054064613470328848384)"
   ]
  },
  {
   "cell_type": "markdown",
   "metadata": {},
   "source": [
    "#### 1.7.1 The Anatomy of Recursive Functions\n",
    "Recursive functions leverage the rules of evaluating call expressions to bind names to values, often avoiding the nuisance of **correctly assigning local names** during iteration."
   ]
  },
  {
   "cell_type": "code",
   "execution_count": 78,
   "metadata": {},
   "outputs": [
    {
     "data": {
      "text/plain": [
       "2"
      ]
     },
     "execution_count": 78,
     "metadata": {},
     "output_type": "execute_result"
    }
   ],
   "source": [
    "def fact(n):\n",
    "    \"\"\"Return the factorail of n using iterative statement\"\"\"\n",
    "    \n",
    "    assert n >= 0, 'input number should be greater and equal zero'\n",
    "    if n == 0:\n",
    "        return 1\n",
    "    k, total = n, 1\n",
    "    while k > 0:\n",
    "        total, k = total * k, k - 1\n",
    "    return total\n",
    "\n",
    "fact(2)"
   ]
  },
  {
   "cell_type": "code",
   "execution_count": 79,
   "metadata": {},
   "outputs": [
    {
     "data": {
      "text/plain": [
       "24"
      ]
     },
     "execution_count": 79,
     "metadata": {},
     "output_type": "execute_result"
    }
   ],
   "source": [
    "def fact_recur(n):\n",
    "    \"\"\"Return the factorial of n using recursive method\"\"\"\n",
    "\n",
    "    assert n >= 0, 'input number should be greater and equal zero'\n",
    "    return 1 if n == 0 else n * fact_recur(n - 1)\n",
    "\n",
    "fact_recur(4)"
   ]
  },
  {
   "cell_type": "markdown",
   "metadata": {},
   "source": [
    "#### 1.7.2 Mutual Recursion\n",
    "When a recursive procedure is divided among two functions that call each other, the functions are said to be mutually recursive.\n",
    "- a number is even if it is one more than an odd number\n",
    "- a number is odd if it is one more than an even number\n",
    "- 0 is even"
   ]
  },
  {
   "cell_type": "code",
   "execution_count": 80,
   "metadata": {},
   "outputs": [
    {
     "name": "stdout",
     "output_type": "stream",
     "text": [
      "True\n"
     ]
    }
   ],
   "source": [
    "def is_even(n):\n",
    "    return True if n == 0 else is_odd(n - 1)\n",
    "\n",
    "def is_odd(n):\n",
    "    return False if n == 0 else is_even(n - 1)\n",
    "\n",
    "result = is_odd(5)\n",
    "print(result)"
   ]
  },
  {
   "cell_type": "code",
   "execution_count": 81,
   "metadata": {},
   "outputs": [
    {
     "data": {
      "text/plain": [
       "True"
      ]
     },
     "execution_count": 81,
     "metadata": {},
     "output_type": "execute_result"
    }
   ],
   "source": [
    "# Another method\n",
    "def is_even2(n):\n",
    "    if n == 0:\n",
    "        return True\n",
    "    else:\n",
    "        if (n - 1) == 0:\n",
    "            return False\n",
    "        else:\n",
    "            return is_even2((n - 1) - 1)\n",
    "        \n",
    "\n",
    "is_even2(10)"
   ]
  },
  {
   "cell_type": "markdown",
   "metadata": {},
   "source": [
    "#### 1.7.3 Printing in Recursive Functions\n",
    "Print all prefixess of a numnber from largest to smallest to largest"
   ]
  },
  {
   "cell_type": "code",
   "execution_count": 82,
   "metadata": {},
   "outputs": [
    {
     "name": "stdout",
     "output_type": "stream",
     "text": [
      "1235\n",
      "123\n",
      "12\n",
      "1\n",
      "12\n",
      "123\n",
      "1235\n"
     ]
    }
   ],
   "source": [
    "def cascade(n):\n",
    "    \"\"\"Print a cascade or prefixes of n.\"\"\"\n",
    "    if n < 10:\n",
    "        print(n)\n",
    "    else:\n",
    "        print(n)\n",
    "        cascade(n // 10)\n",
    "        print(n)\n",
    "\n",
    "cascade(1235)"
   ]
  },
  {
   "cell_type": "markdown",
   "metadata": {},
   "source": [
    "#### 1.7.4 Tree Recursion\n",
    "- Another common pattern of computation is calles tree recursion, in which a function calls itself **more than once**. As shown below."
   ]
  },
  {
   "cell_type": "code",
   "execution_count": 83,
   "metadata": {},
   "outputs": [],
   "source": [
    "def fib(n):\n",
    "    if n == 1:\n",
    "        return 0\n",
    "    if n == 2:\n",
    "        return 1\n",
    "    else:\n",
    "        return fib(n - 2) + fib(n - 1)"
   ]
  },
  {
   "cell_type": "markdown",
   "metadata": {},
   "source": [
    "#### 1.7.5 Example: Partitions\n"
   ]
  },
  {
   "cell_type": "code",
   "execution_count": 84,
   "metadata": {},
   "outputs": [
    {
     "data": {
      "text/plain": [
       "9"
      ]
     },
     "execution_count": 84,
     "metadata": {},
     "output_type": "execute_result"
    }
   ],
   "source": [
    "def count_parations(n, m):\n",
    "    \"\"\"Count the number of ways to partition n using integers up to m equals\"\"\"\n",
    "    if n == 0:          # there is one way to partition 0: that's including no parts\n",
    "        return 1\n",
    "    elif n < 0: \n",
    "        return 0        # there are 0 ways to partition a negative n\n",
    "    elif m == 0:    \n",
    "        return 0        # there are 0 ways to partition any n greater than 0 using parts of size 0 or less\n",
    "    else:\n",
    "        return count_parations(n - m, m) + count_parations(n, m - 1)\n",
    "\n",
    "\n",
    "count_parations(6, 4)"
   ]
  },
  {
   "cell_type": "markdown",
   "metadata": {},
   "source": [
    "## Chapter 2: Building Abstraction with Data\n",
    "### 2.1 Introduction\n",
    "This section investigate here will allow us to represent and munipulate information about many different domains.  \n",
    "We will focus on data and data abstraction."
   ]
  },
  {
   "cell_type": "markdown",
   "metadata": {},
   "source": [
    "#### 2.1.1 Native Data Types\n",
    "- Every value in Python has a **class** that determines what type of value it is.  \n",
    "Values that share a class also share behavior. For example, the integers 1 and 2 are both instances of the int class.\n",
    "- Python includes three native numeric types: integer(int), real number(float), and complex numbers(comlpex.)"
   ]
  },
  {
   "cell_type": "markdown",
   "metadata": {},
   "source": [
    "### 2.2 Data Abstraction\n",
    "- The general technique of isolating the parts of a program that deal with how data are represented from the parts that deal with how data are manipalated is a powerful design methodology call **data abstraction**. \n",
    "- **Data abstraction** makes programs much easier t0 design, maintain, and modify.\n",
    "- The basic idea of data abstraction is to structure programs so that they operate on abstract data."
   ]
  },
  {
   "cell_type": "markdown",
   "metadata": {},
   "source": [
    "#### 2.2.1 Example: Rational Numbers\n",
    "- We can create an exact representation for rational numers by combing together the numerator and denominator.\n",
    "- We assume that the constructor and selectors are available as the following three functions.\n",
    "    - ***rational(n, d)*** returns the rational numner with numerator n and denominator d.\n",
    "    - ***numer(x)*** returns the numerator of the rational number x\n",
    "    - ***denom(x)*** returns the denominator of the rational number x\n",
    "    "
   ]
  },
  {
   "cell_type": "code",
   "execution_count": 85,
   "metadata": {},
   "outputs": [
    {
     "name": "stdout",
     "output_type": "stream",
     "text": [
      "True\n",
      "True\n",
      "1 / 2\n"
     ]
    }
   ],
   "source": [
    "def numer(x):\n",
    "    return x[0]\n",
    "def denom(x):\n",
    "    return x[1]\n",
    "def rational(n, d):\n",
    "    return [n, d]\n",
    "def add_rationals(x, y):\n",
    "    nx, dx = numer(x), denom(x)\n",
    "    ny, dy = numer(y), denom(y) \n",
    "    return rational(nx * dy + ny * dx, dx * dy)\n",
    "def mul_rationals(x, y):\n",
    "    nx, dx = numer(x), denom(x)\n",
    "    ny, dy = numer(y), denom(y) \n",
    "    return rational(nx * ny, dx * dy)\n",
    "def rationals_are_equal(x, y):\n",
    "    return numer(x) * denom(y) == numer(y) * denom(x)\n",
    "def print_rational(x):\n",
    "    print('{0} / {1}'.format(numer(x), denom(x)))\n",
    "\n",
    "print(rationals_are_equal((1, 2), (1, 2)))\n",
    "print(rationals_are_equal([1, 1], [1, 1]))\n",
    "print_rational(rational(1, 2))\n"
   ]
  },
  {
   "cell_type": "code",
   "execution_count": 86,
   "metadata": {},
   "outputs": [
    {
     "name": "stdout",
     "output_type": "stream",
     "text": [
      "8\n",
      "2 / 3\n"
     ]
    }
   ],
   "source": [
    "def gcd(n ,d):\n",
    "    \"\"\"Get the greatest common denominator\"\"\"\n",
    "    big = n if n > d else d\n",
    "    small = n  if n < d else d\n",
    "    while big % small:\n",
    "        remainder = big % small\n",
    "        big, small = small, remainder\n",
    "    return small\n",
    "\n",
    "print(gcd(16, 8))\n",
    "\n",
    "\n",
    "def rational2(n, d):\n",
    "    \"\"\"Using gcd function to construct rational\"\"\"\n",
    "    g = gcd(n, d)\n",
    "    return (n // g, d // g)\n",
    "\n",
    "print_rational(rational2(6, 9))"
   ]
  },
  {
   "cell_type": "markdown",
   "metadata": {},
   "source": [
    "#### 2.2.3 Abstraction Barriers\n",
    "- An abstraction barrier violation occurs whenever a part of the program that can use a higher level function instead uses a function in a lower level.  \n",
    "As shown follow:"
   ]
  },
  {
   "cell_type": "code",
   "execution_count": 87,
   "metadata": {},
   "outputs": [],
   "source": [
    "def square_rational(x):\n",
    "    return mul_rationals(x, x)\n",
    "\n",
    "def square_rational_violating_once(x):\n",
    "    \"\"\"Volating abstraction barriers once\"\"\"\n",
    "    return rational(numer(x) * numer(x), denom(x) * denom(x))\n",
    "\n",
    "def square_rational_violating_twice(x):\n",
    "    \"\"\"Volating abstraction barriers twice\"\"\"\n",
    "    return [x[0] * x[0], x[1] * x[1]]"
   ]
  },
  {
   "cell_type": "markdown",
   "metadata": {},
   "source": [
    "- Abstraction barriers make programs eaiser to maintain and to modify. The fewer functions that depend ona particular representation, the fewer changes are required when one wants to changed that representation. \n",
    "- The **square_rational** function would not requie updating even if we altered the representation of rational numbers. \n",
    "- By contrast, **square_rational_violating_once** would need to be changed whenever the selector or constructor signatures changed, and **square_rational_violating_twice** would require updating whenever the implementation of rational numbers changed."
   ]
  },
  {
   "cell_type": "markdown",
   "metadata": {},
   "source": [
    "### 2.3 Sequences\n",
    "#### 2.3.1 Lists\n",
    "- A list value is a sequence that can have arbitary length.\n",
    "- List can nests list\n",
    "\n",
    "#### 2.3.2 Sequence Iteration\n",
    "- Sequences are iterable values.\n",
    "- A **for statement** may include multiple nnames in its header to \"unpack\" each element sequencs into its respective elements. But the length of these elements must be same. This is called ***Sequence unpacking***.\n",
    "As shown follow."
   ]
  },
  {
   "cell_type": "code",
   "execution_count": 88,
   "metadata": {},
   "outputs": [
    {
     "name": "stdout",
     "output_type": "stream",
     "text": [
      "2\n"
     ]
    }
   ],
   "source": [
    "pairs = [[1, 2], [2, 2], [3, 4], [4, 4]]\n",
    "same_cout = 0\n",
    "for x, y in pairs:\n",
    "    if x == y:\n",
    "        same_cout += 1\n",
    "print(same_cout)"
   ]
  },
  {
   "cell_type": "markdown",
   "metadata": {},
   "source": [
    "#### 2.3.3 Sequence Processing\n",
    "- List comprehension   \n",
    "The normal form of the **List Comprehension** is: [<map expression> for <name> in <sequence expression> if filter expression]\n",
    "- Agregation  \n",
    "The built-in funciton **sum, min and max** are all eaamples of aggregation fuctions    \n",
    "The following instance shown how to calculate **A perfect number**.\n",
    "- High-Order Function  \n",
    "We can use the High-order function to process Sequence. First, evaluating an expression an expression for each element in  a sequence can be expressed by applying a funciton each element.\n",
    "- Conventional Names: In the computer science community, the more common name for **apply_to_all is map** and the more common name for **keep_if is filter**. In Python, the built-in map and filter are generalizations of these functions that do not return lists."
   ]
  },
  {
   "cell_type": "code",
   "execution_count": 89,
   "metadata": {},
   "outputs": [
    {
     "name": "stdout",
     "output_type": "stream",
     "text": [
      "[1, 6, 28, 496]\n"
     ]
    },
    {
     "data": {
      "text/plain": [
       "[1, 6, 28, 496]"
      ]
     },
     "execution_count": 89,
     "metadata": {},
     "output_type": "execute_result"
    }
   ],
   "source": [
    "def divisors(n):\n",
    "    return [1] + [x for x in range(2, n) if n % x == 0]\n",
    "\n",
    "# calculate all perfect number from 1 to 1000\n",
    "def cal_perfect_number(start, end):\n",
    "    \"\"\"Calculate all perfect number from start to end\"\"\"\n",
    "    return [x for x in range(start, end + 1) if sum(divisors(x)) == x]\n",
    "\n",
    "print(cal_perfect_number(1, 1000))\n",
    "\n",
    "def divisor(n):\n",
    "    \"\"\"Return a list that include the numbers which can be divisible by n \"\"\"\n",
    "    return [1] + [x for x in range(2, n) if n % x == 0]     # this expression using a list comprehension\n",
    "\n",
    "def get_perfect_number(start, end):\n",
    "    \"\"\"Return the perfect numnber from start to end, including end if end is perfect number\"\"\"\n",
    "    return [x for x in range(start, end + 1) if sum(divisor(x)) == x]\n",
    "\n",
    "get_perfect_number(1, 1000)"
   ]
  },
  {
   "cell_type": "code",
   "execution_count": 90,
   "metadata": {},
   "outputs": [
    {
     "data": {
      "text/plain": [
       "[4, 6, 8, 8]"
      ]
     },
     "execution_count": 90,
     "metadata": {},
     "output_type": "execute_result"
    }
   ],
   "source": [
    "\"\"\"Example : Finding the minimum perimeter of a rectangle with integer side lengths, given its area\"\"\"\n",
    "\n",
    "def width(area, height):\n",
    "    \"\"\"Return width a rectangle\"\"\"\n",
    "    assert area // height, 'side lengths must be integer'\n",
    "    return area // height\n",
    "\n",
    "def perimeter(width, height):\n",
    "    \"\"\"Calculate the perimeter of rectangle\"\"\"\n",
    "    return (width + height) * 2\n",
    "\n",
    "def minimum_perimeter(area):\n",
    "    \"\"\"Know then area of a rectangle, get the minimum perimeter of this rectangle\"\"\"\n",
    "    heights = divisor(area)\n",
    "    perimeters = [perimeter(width(area, height), height) for height in heights]\n",
    "    return min(perimeters)\n",
    "\n",
    "minimum_perimeter(80)\n",
    "[minimum_perimeter(x) for x in range(1, 5)]"
   ]
  },
  {
   "cell_type": "code",
   "execution_count": 91,
   "metadata": {},
   "outputs": [
    {
     "name": "stdout",
     "output_type": "stream",
     "text": [
      "8\n"
     ]
    },
    {
     "data": {
      "text/plain": [
       "[1, 6, 28, 496]"
      ]
     },
     "execution_count": 91,
     "metadata": {},
     "output_type": "execute_result"
    }
   ],
   "source": [
    "\"\"\"Using Hight-Order function to process list\"\"\"\n",
    "def alpply_to_all(map_fn, s):\n",
    "    return [map_fn(x) for x in s]\n",
    "\n",
    "def keep_if(filter_fn, s):\n",
    "    return [x for x in s if filter_fn(x)]\n",
    "\n",
    "def reduce(reduce_fn, s, initial):\n",
    "    reduced = initial\n",
    "    for x in s:\n",
    "        reduced = reduce_fn(reduced, x)\n",
    "    return reduced\n",
    "\n",
    "\n",
    "\n",
    "\"\"\"We can find perfect number using filter funciton\"\"\"\n",
    "def divisor(n):\n",
    "    divisor_n = lambda x : n % x == 0\n",
    "    return [1] + keep_if(divisor_n, range(2, n))\n",
    "\n",
    "from operator import mul, add\n",
    "def sum_of_divisors(n):\n",
    "    return reduce(add, divisors(n), 0)\n",
    "\n",
    "def perfect(n):\n",
    "    return sum_of_divisors(n) == n\n",
    "print(sum_of_divisors(10))\n",
    "keep_if(perfect, range(1, 1000))"
   ]
  },
  {
   "cell_type": "code",
   "execution_count": 92,
   "metadata": {},
   "outputs": [
    {
     "data": {
      "text/plain": [
       "[1, 3, 5, 7, 9]"
      ]
     },
     "execution_count": 92,
     "metadata": {},
     "output_type": "execute_result"
    }
   ],
   "source": [
    "\"\"\"Conventional Names\"\"\"\n",
    "from operator import add, mul\n",
    "alpply_to_all = lambda map_fn, s: list(map(map_fn, s))\n",
    "keep_if = lambda filter_fn, s: list(filter(filter_fn, s))\n",
    "\n",
    "list(keep_if(lambda x: x % 2 != 0, range(1, 10)))"
   ]
  },
  {
   "cell_type": "markdown",
   "metadata": {},
   "source": [
    "#### 2.3.4 Sequence Abstraction\n",
    "- Menmbership\n",
    "- Slicing, further reading: http://getpython3.com/diveintopython3/native-datatypes.html#slicinglists"
   ]
  },
  {
   "cell_type": "code",
   "execution_count": 93,
   "metadata": {},
   "outputs": [
    {
     "data": {
      "text/plain": [
       "True"
      ]
     },
     "execution_count": 93,
     "metadata": {},
     "output_type": "execute_result"
    }
   ],
   "source": [
    "# Membership\n",
    "digit = [1, 2, 3, 4]\n",
    "2 in digit"
   ]
  },
  {
   "cell_type": "code",
   "execution_count": 94,
   "metadata": {},
   "outputs": [
    {
     "name": "stdout",
     "output_type": "stream",
     "text": [
      "[2, 3]\n",
      "[1, 2]\n",
      "[3]\n"
     ]
    }
   ],
   "source": [
    "# Siling\n",
    "lst = [1, 2, 3]\n",
    "print(lst[1:])\n",
    "print(lst[:-1])\n",
    "print(lst[2:])"
   ]
  },
  {
   "cell_type": "markdown",
   "metadata": {},
   "source": [
    "- Processing Container Values \n",
    "Serveral built-in function take iterable argumnets and aggregate them into a value \n",
    "- Sequence Aggregation:\n",
    "    - sum(iterable[, start]) -> value\n",
    "    - max(iterable[, key=func]) -> value\n",
    "    - max(a, b, c, ...[, key=func]) ->value\n",
    "    - all(iterable) -> bool\n",
    "    "
   ]
  },
  {
   "cell_type": "markdown",
   "metadata": {},
   "source": [
    "#### 2.3.5 String : further reading: http://getpython3.com/diveintopython3/strings.html"
   ]
  },
  {
   "cell_type": "code",
   "execution_count": 95,
   "metadata": {},
   "outputs": [],
   "source": [
    "# sum(['1', '2']) # it doesn't work"
   ]
  },
  {
   "cell_type": "code",
   "execution_count": 96,
   "metadata": {},
   "outputs": [
    {
     "data": {
      "text/plain": [
       "11"
      ]
     },
     "execution_count": 96,
     "metadata": {},
     "output_type": "execute_result"
    }
   ],
   "source": [
    "sum([1, 2, 3], 5)  # start five to sum"
   ]
  },
  {
   "cell_type": "code",
   "execution_count": 97,
   "metadata": {},
   "outputs": [
    {
     "data": {
      "text/plain": [
       "[1, 2, 3]"
      ]
     },
     "execution_count": 97,
     "metadata": {},
     "output_type": "execute_result"
    }
   ],
   "source": [
    "[1, 2] + [3]"
   ]
  },
  {
   "cell_type": "code",
   "execution_count": 98,
   "metadata": {},
   "outputs": [
    {
     "data": {
      "text/plain": [
       "[1, 2, 5]"
      ]
     },
     "execution_count": 98,
     "metadata": {},
     "output_type": "execute_result"
    }
   ],
   "source": [
    "sum([[1, 2], [5]], [])"
   ]
  },
  {
   "cell_type": "code",
   "execution_count": 99,
   "metadata": {},
   "outputs": [],
   "source": [
    "#0 + [2, 3]  # this will get a error"
   ]
  },
  {
   "cell_type": "code",
   "execution_count": 100,
   "metadata": {},
   "outputs": [
    {
     "ename": "TypeError",
     "evalue": "unsupported operand type(s) for +: 'int' and 'list'",
     "output_type": "error",
     "traceback": [
      "\u001b[0;31m---------------------------------------------------------------------------\u001b[0m",
      "\u001b[0;31mTypeError\u001b[0m                                 Traceback (most recent call last)",
      "\u001b[1;32m/home/ubuntu/htl/cs61a/Notes.ipynb 单元格 74\u001b[0m line \u001b[0;36m1\n\u001b[0;32m----> <a href='vscode-notebook-cell://ssh-remote%2Bvlab/home/ubuntu/htl/cs61a/Notes.ipynb#Y133sdnNjb2RlLXJlbW90ZQ%3D%3D?line=0'>1</a>\u001b[0m \u001b[39msum\u001b[39;49m([[\u001b[39m1\u001b[39;49m, \u001b[39m2\u001b[39;49m], [\u001b[39m5\u001b[39;49m]])  \u001b[39m#this will get a error, because it start a zero, should start a empty list: []\u001b[39;00m\n",
      "\u001b[0;31mTypeError\u001b[0m: unsupported operand type(s) for +: 'int' and 'list'"
     ]
    }
   ],
   "source": [
    "sum([[1, 2], [5]])  #this will get a error, because it start a zero, should start a empty list: []"
   ]
  },
  {
   "cell_type": "code",
   "execution_count": null,
   "metadata": {},
   "outputs": [],
   "source": [
    "max(range(10), key=lambda x: -x ** 2 + 4 * x - 4)"
   ]
  },
  {
   "cell_type": "code",
   "execution_count": null,
   "metadata": {},
   "outputs": [
    {
     "data": {
      "text/plain": [
       "False"
      ]
     },
     "execution_count": 7,
     "metadata": {},
     "output_type": "execute_result"
    }
   ],
   "source": [
    "bool('')"
   ]
  },
  {
   "cell_type": "code",
   "execution_count": null,
   "metadata": {},
   "outputs": [
    {
     "data": {
      "text/plain": [
       "False"
      ]
     },
     "execution_count": 8,
     "metadata": {},
     "output_type": "execute_result"
    }
   ],
   "source": [
    "bool([])"
   ]
  },
  {
   "cell_type": "code",
   "execution_count": null,
   "metadata": {},
   "outputs": [
    {
     "data": {
      "text/plain": [
       "True"
      ]
     },
     "execution_count": 12,
     "metadata": {},
     "output_type": "execute_result"
    }
   ],
   "source": [
    "all([x < 5 for x in range(5)])"
   ]
  },
  {
   "cell_type": "code",
   "execution_count": null,
   "metadata": {},
   "outputs": [
    {
     "data": {
      "text/plain": [
       "False"
      ]
     },
     "execution_count": 9,
     "metadata": {},
     "output_type": "execute_result"
    }
   ],
   "source": [
    "all(range(5))"
   ]
  },
  {
   "cell_type": "markdown",
   "metadata": {},
   "source": [
    "#### 2.3.6 Trees\n",
    "- Our ability to use lists as the elements of other lists provides a new means of combination in our programming language. This ability is called a ***closure property*** of a data type.\n",
    "- In general, a method for combining data values has a closure property if the result of combination can itself be combined using the same method.\n",
    "- There are some properties for the **Tree Abstraction Structure**\n",
    "    - The lable: the value of node\n",
    "    - The branches: the sub-tree is called branch\n",
    "    - The leaf: the node that has no any brance\n",
    "    - The root: the top of tree"
   ]
  },
  {
   "cell_type": "code",
   "execution_count": null,
   "metadata": {},
   "outputs": [
    {
     "name": "stdout",
     "output_type": "stream",
     "text": [
      "[1, [2, [21], [22]], [3, [31], [32]]]\n",
      "1\n",
      "[[2, [21], [22]], [3, [31], [32]]]\n"
     ]
    }
   ],
   "source": [
    "\"\"\"We can using function to construct constrctor and selector of a tree.\n",
    "    Constructor construct the tree, selector can select the branch and leaf of tree.\n",
    "    We using the Native data type: list, by nest list to achieve tree.\n",
    "\"\"\"\n",
    "def tree(root_label, branches=[]):\n",
    "    \"\"\"Construct tree, we need to pass two argument: root label and branches(default to empty list)\"\"\"\n",
    "    for branch in branches:\n",
    "        assert is_tree(branch), 'branches must be trees'\n",
    "    return [root_label] + list(branches)\n",
    "\n",
    "def label(tree):\n",
    "    return tree[0]\n",
    "\n",
    "def branches(tree):\n",
    "    return tree[1:]\n",
    "\n",
    "def is_tree(tree):\n",
    "    if type(tree) != list or len(tree) == 0:\n",
    "        return False\n",
    "    for branch in branches(tree):\n",
    "        if not is_tree(branch):\n",
    "            return False\n",
    "    return True\n",
    "\n",
    "def is_leaf(tree):\n",
    "    return not branches(tree)\n",
    "\n",
    "t = tree(1, [tree(2, [tree(21), tree(22)]), tree(3, [tree(31), tree(32)])])\n",
    "print(t)\n",
    "print(label(t))\n",
    "print(branches(t))"
   ]
  },
  {
   "cell_type": "markdown",
   "metadata": {},
   "source": [
    "- Tree Processing \n",
    "1. Fibnanoci tree  "
   ]
  },
  {
   "cell_type": "code",
   "execution_count": null,
   "metadata": {},
   "outputs": [
    {
     "data": {
      "text/plain": [
       "[5, [2, [1], [1, [0], [1]]], [3, [1, [0], [1]], [2, [1], [1, [0], [1]]]]]"
      ]
     },
     "execution_count": 12,
     "metadata": {},
     "output_type": "execute_result"
    }
   ],
   "source": [
    "def fib_tree(n):\n",
    "    if n == 0 or n == 1:\n",
    "        return tree(n)\n",
    "    else:\n",
    "        left, right = fib_tree(n - 2), fib_tree(n- 1)\n",
    "        fib_n = label(left) + label(right)\n",
    "        return tree(fib_n, [left, right])\n",
    "    \n",
    "fib_tree(5)\n"
   ]
  },
  {
   "cell_type": "code",
   "execution_count": null,
   "metadata": {},
   "outputs": [
    {
     "data": {
      "text/plain": [
       "5"
      ]
     },
     "execution_count": 11,
     "metadata": {},
     "output_type": "execute_result"
    }
   ],
   "source": [
    "def fib(n):\n",
    "    if n == 0 or n == 1:\n",
    "        return n \n",
    "    else:\n",
    "        return fib(n - 2) + fib(n - 1)\n",
    "    \n",
    "fib(5)"
   ]
  },
  {
   "cell_type": "markdown",
   "metadata": {},
   "source": [
    "2. Count leaves of tree\n"
   ]
  },
  {
   "cell_type": "code",
   "execution_count": null,
   "metadata": {},
   "outputs": [
    {
     "data": {
      "text/plain": [
       "8"
      ]
     },
     "execution_count": 13,
     "metadata": {},
     "output_type": "execute_result"
    }
   ],
   "source": [
    "def count_leaves(tree):\n",
    "    if is_leaf(tree):\n",
    "        return 1\n",
    "    else:\n",
    "        branch_counts = [count_leaves(b) for b in branches(tree)]\n",
    "        return sum(branch_counts)\n",
    "    \n",
    "count_leaves(fib_tree(5))"
   ]
  },
  {
   "cell_type": "code",
   "execution_count": null,
   "metadata": {},
   "outputs": [
    {
     "name": "stdout",
     "output_type": "stream",
     "text": [
      "[True, [True], [False]]\n",
      "[[True], [False]]\n"
     ]
    },
    {
     "data": {
      "text/plain": [
       "[True]"
      ]
     },
     "execution_count": 24,
     "metadata": {},
     "output_type": "execute_result"
    }
   ],
   "source": [
    "t = tree(True, [tree(True), tree(False)])\n",
    "print(t)\n",
    "print(branches(t))\n",
    "x, y = branches(t)\n",
    "x"
   ]
  },
  {
   "cell_type": "markdown",
   "metadata": {},
   "source": [
    "3. Partition trees : This problem is difficult.  \n",
    "The labels at the leaves of a patition tree express whether the path from the root of the tree to the leaf represents a successful partition of n."
   ]
  },
  {
   "cell_type": "code",
   "execution_count": null,
   "metadata": {},
   "outputs": [
    {
     "name": "stdout",
     "output_type": "stream",
     "text": [
      "4 + 2\n",
      "4 + 1 + 1\n",
      "3 + 3\n",
      "3 + 2 + 1\n",
      "3 + 1 + 1 + 1\n",
      "2 + 2 + 2\n",
      "2 + 2 + 1 + 1\n",
      "2 + 1 + 1 + 1 + 1\n",
      "1 + 1 + 1 + 1 + 1 + 1\n"
     ]
    }
   ],
   "source": [
    "def partition_tree(n, m):\n",
    "    \"\"\"Return a partition tree of n using parts of up to m\"\"\"\n",
    "    if n == 0:\n",
    "        return tree(True)\n",
    "    elif n < 0 or m == 0:\n",
    "        return tree(False)\n",
    "    else:\n",
    "        left = partition_tree(n - m, m)\n",
    "        right = partition_tree(n, m - 1)\n",
    "        return tree(m, [left, right])\n",
    "    \n",
    "def print_parts(tree, partition=[]):\n",
    "    if is_leaf(tree):\n",
    "        if label(tree):\n",
    "            print(' + '.join(partition))\n",
    "    else:\n",
    "        left, right = branches(tree)\n",
    "        m = str(label(tree))\n",
    "        print_parts(left, partition + [m])\n",
    "        print_parts(right, partition)\n",
    "\n",
    "print_parts(partition_tree(6, 4))"
   ]
  },
  {
   "cell_type": "code",
   "execution_count": null,
   "metadata": {},
   "outputs": [
    {
     "name": "stdout",
     "output_type": "stream",
     "text": [
      "4 + 2\n",
      "4 + 1 + 1\n",
      "3 + 3\n",
      "3 + 2 + 1\n",
      "3 + 1 + 1 + 1\n",
      "2 + 2 + 2\n",
      "2 + 2 + 1 + 1\n",
      "2 + 1 + 1 + 1 + 1\n",
      "1 + 1 + 1 + 1 + 1 + 1\n"
     ]
    }
   ],
   "source": [
    "def count_leaves(tree):\n",
    "    if is_leaf(tree):\n",
    "        return 1\n",
    "    else:\n",
    "        branch_list = [count_leaves(b) for b in branches(tree)]\n",
    "        return sum(branch_list)\n",
    "    \n",
    "def partition_tree(n, m):\n",
    "    if n == 0:\n",
    "        return tree(True)\n",
    "    elif n < 0 or m == 0:\n",
    "        return tree(False)\n",
    "    else:\n",
    "        left = partition_tree(n - m, m)\n",
    "        right = partition_tree(n, m - 1)\n",
    "        return tree(m, [left, right])\n",
    "\n",
    "\"\"\"This function is difficult\"\"\"\n",
    "def print_parts(tree, partition=[]):\n",
    "    if is_leaf(tree):\n",
    "        if label(tree):\n",
    "            print(' + '.join(partition))\n",
    "    else:\n",
    "        left, right = branches(tree)\n",
    "        m = str(label(tree))\n",
    "        print_parts(left, partition + [m])\n",
    "        print_parts(right, partition)\n",
    "\n",
    "print_parts(partition_tree(6, 4))"
   ]
  },
  {
   "cell_type": "code",
   "execution_count": 101,
   "metadata": {},
   "outputs": [
    {
     "ename": "TypeError",
     "evalue": "'int' object is not subscriptable",
     "output_type": "error",
     "traceback": [
      "\u001b[0;31m---------------------------------------------------------------------------\u001b[0m",
      "\u001b[0;31mTypeError\u001b[0m                                 Traceback (most recent call last)",
      "\u001b[1;32m/home/ubuntu/htl/cs61a/Notes.ipynb 单元格 91\u001b[0m line \u001b[0;36m1\n\u001b[1;32m      <a href='vscode-notebook-cell://ssh-remote%2Bvlab/home/ubuntu/htl/cs61a/Notes.ipynb#Y362sdnNjb2RlLXJlbW90ZQ%3D%3D?line=7'>8</a>\u001b[0m     \u001b[39mreturn\u001b[39;00m [right_binarize(b) \u001b[39mfor\u001b[39;00m b \u001b[39min\u001b[39;00m tree]\n\u001b[1;32m      <a href='vscode-notebook-cell://ssh-remote%2Bvlab/home/ubuntu/htl/cs61a/Notes.ipynb#Y362sdnNjb2RlLXJlbW90ZQ%3D%3D?line=8'>9</a>\u001b[0m t \u001b[39m=\u001b[39m [\u001b[39m1\u001b[39m, \u001b[39m2\u001b[39m, \u001b[39m3\u001b[39m]\n\u001b[0;32m---> <a href='vscode-notebook-cell://ssh-remote%2Bvlab/home/ubuntu/htl/cs61a/Notes.ipynb#Y362sdnNjb2RlLXJlbW90ZQ%3D%3D?line=9'>10</a>\u001b[0m right_binarize(t)\n",
      "\u001b[1;32m/home/ubuntu/htl/cs61a/Notes.ipynb 单元格 91\u001b[0m line \u001b[0;36m8\n\u001b[1;32m      <a href='vscode-notebook-cell://ssh-remote%2Bvlab/home/ubuntu/htl/cs61a/Notes.ipynb#Y362sdnNjb2RlLXJlbW90ZQ%3D%3D?line=5'>6</a>\u001b[0m \u001b[39melif\u001b[39;00m \u001b[39mlen\u001b[39m(tree) \u001b[39m>\u001b[39m \u001b[39m2\u001b[39m:\n\u001b[1;32m      <a href='vscode-notebook-cell://ssh-remote%2Bvlab/home/ubuntu/htl/cs61a/Notes.ipynb#Y362sdnNjb2RlLXJlbW90ZQ%3D%3D?line=6'>7</a>\u001b[0m     tree \u001b[39m=\u001b[39m [tree[\u001b[39m0\u001b[39m], tree[\u001b[39m1\u001b[39m:]]\n\u001b[0;32m----> <a href='vscode-notebook-cell://ssh-remote%2Bvlab/home/ubuntu/htl/cs61a/Notes.ipynb#Y362sdnNjb2RlLXJlbW90ZQ%3D%3D?line=7'>8</a>\u001b[0m \u001b[39mreturn\u001b[39;00m [right_binarize(b) \u001b[39mfor\u001b[39;00m b \u001b[39min\u001b[39;00m tree]\n",
      "\u001b[1;32m/home/ubuntu/htl/cs61a/Notes.ipynb 单元格 91\u001b[0m line \u001b[0;36m8\n\u001b[1;32m      <a href='vscode-notebook-cell://ssh-remote%2Bvlab/home/ubuntu/htl/cs61a/Notes.ipynb#Y362sdnNjb2RlLXJlbW90ZQ%3D%3D?line=5'>6</a>\u001b[0m \u001b[39melif\u001b[39;00m \u001b[39mlen\u001b[39m(tree) \u001b[39m>\u001b[39m \u001b[39m2\u001b[39m:\n\u001b[1;32m      <a href='vscode-notebook-cell://ssh-remote%2Bvlab/home/ubuntu/htl/cs61a/Notes.ipynb#Y362sdnNjb2RlLXJlbW90ZQ%3D%3D?line=6'>7</a>\u001b[0m     tree \u001b[39m=\u001b[39m [tree[\u001b[39m0\u001b[39m], tree[\u001b[39m1\u001b[39m:]]\n\u001b[0;32m----> <a href='vscode-notebook-cell://ssh-remote%2Bvlab/home/ubuntu/htl/cs61a/Notes.ipynb#Y362sdnNjb2RlLXJlbW90ZQ%3D%3D?line=7'>8</a>\u001b[0m \u001b[39mreturn\u001b[39;00m [right_binarize(b) \u001b[39mfor\u001b[39;00m b \u001b[39min\u001b[39;00m tree]\n",
      "\u001b[1;32m/home/ubuntu/htl/cs61a/Notes.ipynb 单元格 91\u001b[0m line \u001b[0;36m4\n\u001b[1;32m      <a href='vscode-notebook-cell://ssh-remote%2Bvlab/home/ubuntu/htl/cs61a/Notes.ipynb#Y362sdnNjb2RlLXJlbW90ZQ%3D%3D?line=1'>2</a>\u001b[0m \u001b[39mdef\u001b[39;00m \u001b[39mright_binarize\u001b[39m(tree):\n\u001b[1;32m      <a href='vscode-notebook-cell://ssh-remote%2Bvlab/home/ubuntu/htl/cs61a/Notes.ipynb#Y362sdnNjb2RlLXJlbW90ZQ%3D%3D?line=2'>3</a>\u001b[0m \u001b[39m    \u001b[39m\u001b[39m\"\"\"Construct a right-branching binary tree\"\"\"\u001b[39;00m\n\u001b[0;32m----> <a href='vscode-notebook-cell://ssh-remote%2Bvlab/home/ubuntu/htl/cs61a/Notes.ipynb#Y362sdnNjb2RlLXJlbW90ZQ%3D%3D?line=3'>4</a>\u001b[0m     \u001b[39mif\u001b[39;00m is_leaf(tree):\n\u001b[1;32m      <a href='vscode-notebook-cell://ssh-remote%2Bvlab/home/ubuntu/htl/cs61a/Notes.ipynb#Y362sdnNjb2RlLXJlbW90ZQ%3D%3D?line=4'>5</a>\u001b[0m         \u001b[39mreturn\u001b[39;00m tree \n\u001b[1;32m      <a href='vscode-notebook-cell://ssh-remote%2Bvlab/home/ubuntu/htl/cs61a/Notes.ipynb#Y362sdnNjb2RlLXJlbW90ZQ%3D%3D?line=5'>6</a>\u001b[0m     \u001b[39melif\u001b[39;00m \u001b[39mlen\u001b[39m(tree) \u001b[39m>\u001b[39m \u001b[39m2\u001b[39m:\n",
      "\u001b[1;32m/home/ubuntu/htl/cs61a/Notes.ipynb 单元格 91\u001b[0m line \u001b[0;36m2\n\u001b[1;32m     <a href='vscode-notebook-cell://ssh-remote%2Bvlab/home/ubuntu/htl/cs61a/Notes.ipynb#Y362sdnNjb2RlLXJlbW90ZQ%3D%3D?line=24'>25</a>\u001b[0m \u001b[39mdef\u001b[39;00m \u001b[39mis_leaf\u001b[39m(tree):\n\u001b[0;32m---> <a href='vscode-notebook-cell://ssh-remote%2Bvlab/home/ubuntu/htl/cs61a/Notes.ipynb#Y362sdnNjb2RlLXJlbW90ZQ%3D%3D?line=25'>26</a>\u001b[0m     \u001b[39mreturn\u001b[39;00m \u001b[39mnot\u001b[39;00m branches(tree)\n",
      "\u001b[1;32m/home/ubuntu/htl/cs61a/Notes.ipynb 单元格 91\u001b[0m line \u001b[0;36m1\n\u001b[1;32m     <a href='vscode-notebook-cell://ssh-remote%2Bvlab/home/ubuntu/htl/cs61a/Notes.ipynb#Y362sdnNjb2RlLXJlbW90ZQ%3D%3D?line=13'>14</a>\u001b[0m \u001b[39mdef\u001b[39;00m \u001b[39mbranches\u001b[39m(tree):\n\u001b[0;32m---> <a href='vscode-notebook-cell://ssh-remote%2Bvlab/home/ubuntu/htl/cs61a/Notes.ipynb#Y362sdnNjb2RlLXJlbW90ZQ%3D%3D?line=14'>15</a>\u001b[0m     \u001b[39mreturn\u001b[39;00m tree[\u001b[39m1\u001b[39;49m:]\n",
      "\u001b[0;31mTypeError\u001b[0m: 'int' object is not subscriptable"
     ]
    }
   ],
   "source": [
    "\"\"\"This function is difficult\"\"\"\n",
    "def right_binarize(tree):\n",
    "    \"\"\"Construct a right-branching binary tree\"\"\"\n",
    "    if is_leaf(tree):\n",
    "        return tree \n",
    "    elif len(tree) > 2:\n",
    "        tree = [tree[0], tree[1:]]\n",
    "    return [right_binarize(b) for b in tree]\n",
    "t = [1, 2, 3]\n",
    "right_binarize(t)"
   ]
  },
  {
   "cell_type": "markdown",
   "metadata": {},
   "source": [
    "### Video 3-4: Object\n",
    "#### String"
   ]
  },
  {
   "cell_type": "code",
   "execution_count": null,
   "metadata": {},
   "outputs": [
    {
     "data": {
      "text/plain": [
       "'👶'"
      ]
     },
     "execution_count": 40,
     "metadata": {},
     "output_type": "execute_result"
    }
   ],
   "source": [
    "from unicodedata import lookup\n",
    "\n",
    "lookup('baby')"
   ]
  },
  {
   "cell_type": "code",
   "execution_count": null,
   "metadata": {},
   "outputs": [
    {
     "data": {
      "text/plain": [
       "b'\\xf0\\x9f\\x91\\xb6'"
      ]
     },
     "execution_count": 41,
     "metadata": {},
     "output_type": "execute_result"
    }
   ],
   "source": [
    "lookup('baby').encode()"
   ]
  },
  {
   "cell_type": "markdown",
   "metadata": {},
   "source": [
    "#### Mutation Operations\n",
    "Some Obeject Can Change"
   ]
  },
  {
   "cell_type": "code",
   "execution_count": null,
   "metadata": {},
   "outputs": [],
   "source": [
    "suits = ['pen', 'book', 'paper']\n",
    "orignal_suits = suits"
   ]
  },
  {
   "cell_type": "code",
   "execution_count": null,
   "metadata": {},
   "outputs": [],
   "source": [
    "suits.append(12)"
   ]
  },
  {
   "cell_type": "code",
   "execution_count": null,
   "metadata": {},
   "outputs": [],
   "source": [
    "suits"
   ]
  },
  {
   "cell_type": "code",
   "execution_count": null,
   "metadata": {},
   "outputs": [],
   "source": [
    "orignal_suits"
   ]
  },
  {
   "cell_type": "markdown",
   "metadata": {},
   "source": [
    "#### Tuple : Tuples are immutable sequences"
   ]
  },
  {
   "cell_type": "code",
   "execution_count": null,
   "metadata": {},
   "outputs": [],
   "source": [
    "tuple = (1, 2, 3)\n",
    "tuple.pop()  # this will get a error\n",
    "tuple"
   ]
  },
  {
   "cell_type": "code",
   "execution_count": null,
   "metadata": {},
   "outputs": [],
   "source": [
    "x = [1, 2]\n",
    "x + x"
   ]
  },
  {
   "cell_type": "code",
   "execution_count": null,
   "metadata": {},
   "outputs": [],
   "source": [
    "x.append(3)\n",
    "x"
   ]
  },
  {
   "cell_type": "code",
   "execution_count": null,
   "metadata": {},
   "outputs": [],
   "source": [
    "x + x"
   ]
  },
  {
   "cell_type": "markdown",
   "metadata": {},
   "source": [
    "Mutable Default Arguments are Danferous"
   ]
  },
  {
   "cell_type": "code",
   "execution_count": null,
   "metadata": {},
   "outputs": [],
   "source": [
    "def f(s=[]):\n",
    "    s.append(5)\n",
    "    return len(s)"
   ]
  },
  {
   "cell_type": "code",
   "execution_count": null,
   "metadata": {},
   "outputs": [],
   "source": [
    "f()"
   ]
  },
  {
   "cell_type": "code",
   "execution_count": null,
   "metadata": {},
   "outputs": [],
   "source": [
    "f()"
   ]
  },
  {
   "cell_type": "markdown",
   "metadata": {},
   "source": [
    "#### 2.3.5 Linked Lists\n",
    "- Using the Native data type to represent Link List"
   ]
  },
  {
   "cell_type": "code",
   "execution_count": null,
   "metadata": {},
   "outputs": [
    {
     "name": "stdout",
     "output_type": "stream",
     "text": [
      "4\n",
      "4\n",
      "1\n"
     ]
    }
   ],
   "source": [
    "empty = 'empty'     # The tail of link list was represented by the string 'empty'\n",
    "def is_link(s):\n",
    "    \"\"\"s is link if s is equal empty or a pair(first, rest)\"\"\"\n",
    "    return s == empty or (len(s) == 2 and is_link(s[1]))\n",
    "\n",
    "def link(first, rest):\n",
    "    \"\"\"The constructor of link list\"\"\"\n",
    "    assert is_link(rest), 'rest must be link list'\n",
    "    return [first, rest]\n",
    "\n",
    "def first(s):\n",
    "    \"\"\"The selector of link list, which is used to select the first element of link list\"\"\"\n",
    "    assert is_link(s), 'Input must be a link list'\n",
    "    assert s != empty, 'empty link list has no first element'\n",
    "    return s[0]\n",
    "\n",
    "def rest(s):\n",
    "    \"\"\"The selector of link list, which is used to select the rest of link list\"\"\"\n",
    "    assert is_link(s), 'Input must be a link list'\n",
    "    assert s != empty, 'empty link list has not rest'\n",
    "    return s[1]\n",
    "\n",
    "def link_len(s):\n",
    "    if s == empty:\n",
    "        return 0\n",
    "    else:\n",
    "        s = rest(s)\n",
    "        return 1 + link_len(s)\n",
    "def link_len_iter(s):\n",
    "    length = 0\n",
    "    while s != empty:\n",
    "        s, length = rest(s), length + 1\n",
    "    return length\n",
    "\n",
    "def getitem_link(s, i):\n",
    "    \"\"\"Return the element at index i of linked list s\"\"\"\n",
    "    while i > 0:\n",
    "        s, i = rest(s), i + 1\n",
    "    return first(s)\n",
    "\n",
    "four = link(1, link(2, link(3, link(4, empty))))\n",
    "print(link_len(four))\n",
    "print(link_len_iter(four))\n",
    "print(getitem_link(four, 0))"
   ]
  },
  {
   "cell_type": "markdown",
   "metadata": {},
   "source": [
    "### 2.4 Mutable Date\n",
    "#### 2.4.1 The Object Metaphor\n",
    "Object: Object represent impformation, but also behave like the things that they represent.\n",
    "Object are both information and processes.\n",
    "**In fact, all value in Python are object**\n",
    "\n",
    "#### 2.4.2 Sequence Objects\n",
    "- **is** and **is not** are used to test two expression is equal to each other and are the identical object\n",
    "- **Tuple** is an immutable sequence\n",
    "- Empty and one-element tuples have special literal syntax.\n",
    "- It is not possible to change which elements are in a tuple, it is possible to change the value of **a mutable element** contained within a tuple.\n",
    "\n",
    "#### 2.4.3 Dictionary\n",
    "- Dictionaries: Both the keys and values are objects.   \n",
    "A dictionary can have at most one value for each key.  \n",
    "dict([(3, 9), (4, 16), (5, 25)]) a list of key-value can be converted into a dictionary.\n",
    "    - A key of a dictionary cannot be or contain a mutable value.\n",
    "    - There can be at most one value for a given key.\n",
    "    - Dictionaries also have a comprehension syntax. {x: x*x for x in range(3,6)} >> {3: 9, 4: 16, 5: 25}\n",
    "\n",
    "\n"
   ]
  },
  {
   "cell_type": "markdown",
   "metadata": {},
   "source": [
    "#### 2.4.4 Local state\n",
    "\n",
    "#### 2.4.5 The Benefits of Non-Local Assignment\n",
    "- A new frame will be created every call the make_withdraw function\n"
   ]
  },
  {
   "cell_type": "code",
   "execution_count": null,
   "metadata": {},
   "outputs": [],
   "source": [
    "def make_withdraw(blance):\n",
    "    \"\"\"Return a withdraw function that draws down balance with each call\"\"\"\n",
    "    def withdraw(amount):\n",
    "        nonlocal blance\n",
    "        if amount > blance:\n",
    "            return 'Insufficient funds'\n",
    "        blance = blance - amount\n",
    "        return blance\n",
    "    return withdraw\n",
    "\n",
    "wd = make_withdraw(50)\n",
    "print('wd =', wd(20))\n",
    "\n",
    "\"\"\"wd1 and wd2 has different frame, so the balance can be placed in different address(memory)\"\"\"\n",
    "wd1 = make_withdraw(100)\n",
    "wd2 = make_withdraw(200)\n",
    "print('wd1 =', wd1(10))   \n",
    "print('wd2 =', wd2(20))"
   ]
  },
  {
   "cell_type": "markdown",
   "metadata": {},
   "source": [
    "#### 2.4.6 The Cost of Non-Local Assignment\n",
    "- The only function calls can introduce new frames. Assignment statements always change bindings in existing frames.\n",
    "- Such as the following example"
   ]
  },
  {
   "cell_type": "code",
   "execution_count": null,
   "metadata": {},
   "outputs": [],
   "source": [
    "def make_withdraw(blance):\n",
    "    \"\"\"Return a withdraw function that draws down balance with each call\"\"\"\n",
    "    def withdraw(amount):\n",
    "        nonlocal blance\n",
    "        if amount > blance:\n",
    "            return 'Insufficient funds'\n",
    "        blance = blance - amount\n",
    "        return blance\n",
    "    return withdraw\n",
    "\n",
    "wd = make_withdraw(50)\n",
    "print('wd =', wd(20))\n",
    "\n",
    "\"\"\"wd1 and wd2 has different frame, so the balance can be placed in different address(memory)\"\"\"\n",
    "wd = make_withdraw(100)\n",
    "wd2 = wd    # wd2 and wd is the same function, that's means thier address are same\n",
    "print('wd1 =', wd1(10))   \n",
    "print('wd2 =', wd2(20))\n",
    "print(wd, wd2)"
   ]
  },
  {
   "cell_type": "markdown",
   "metadata": {},
   "source": [
    "#### 2.4.7 Implementing Lists and Dictionaries\n",
    "- Mutable link"
   ]
  },
  {
   "cell_type": "code",
   "execution_count": null,
   "metadata": {},
   "outputs": [],
   "source": [
    "# def mutable_link():\n",
    "#     \"\"\"Return a functional implementation of a mutable linked list.\"\"\"\n",
    "#     contents = empty \n",
    "#     def dispatch(message, vlaue=None):\n",
    "#         nonlocal contents\n",
    "#         if message == 'len':\n",
    "#             return len_link(contents)\n",
    "\n",
    "\"\"\"Some function are not given\"\"\"    "
   ]
  },
  {
   "cell_type": "code",
   "execution_count": null,
   "metadata": {},
   "outputs": [],
   "source": [
    "def dictionary():\n",
    "    \"\"\"Return a functional implementation of a dictionary\"\"\"\n",
    "    records = []\n",
    "    def getitem(key):\n",
    "        matches = [r for r in records if r[0] == key]\n",
    "        if len(matches) == 1:\n",
    "            key, value = matches[0]\n",
    "            return value\n",
    "    def setitem(key, value):\n",
    "        nonlocal records\n",
    "        non_matches = [r for r in records if r[0] != key]\n",
    "        records  = non_matches + [[key, value]]\n",
    "    def dispatch(message, key = None, value = None):\n",
    "        if message == 'getitem':\n",
    "            return getitem(key)\n",
    "        elif message == 'setitem':\n",
    "            return setitem(key, value)\n",
    "    return dispatch\n",
    "\n",
    "\n",
    "d = dictionary()\n",
    "d('setitem', 1, 1)\n",
    "d('setitem', 2, 4)\n",
    "d('setitem', 3, 9)\n",
    "d('setitem', 4, 16)\n",
    "d('getitem', 3)\n"
   ]
  },
  {
   "cell_type": "markdown",
   "metadata": {},
   "source": [
    "#### 2.4.8 Dispatch Dictionaries\n",
    "Using dictionary and dispatch function to acheive the mutable account data type that does not use non local satement"
   ]
  },
  {
   "cell_type": "code",
   "execution_count": null,
   "metadata": {},
   "outputs": [],
   "source": [
    "def account(initial_balance):\n",
    "    def deposite(amount):\n",
    "        dispatch['balance'] += amount\n",
    "        return dispatch['balance']\n",
    "    def withdraw(amount):\n",
    "        if amount > dispatch['balance']:\n",
    "            return 'Amount is large balance'\n",
    "        dispatch['balance'] -= amount\n",
    "        return dispatch['balance']\n",
    "    dispatch = {'deposite':deposite, 'withdraw':withdraw, 'balance':initial_balance}\n",
    "    return dispatch\n",
    "\n",
    "\n",
    "def deposite(account, amount):\n",
    "    return account['deposite'](amount)\n",
    "def withdraw(account, amount):\n",
    "    return account['withdraw'](amount)\n",
    "def check_balance(account):\n",
    "    return account['balance']\n",
    "\n",
    "a = account(200)\n",
    "deposite(a, 20)\n",
    "print(check_balance(a))\n",
    "withdraw(a, 100)\n",
    "print(check_balance(a))\n",
    "withdraw(a, 130)\n",
    "\n"
   ]
  },
  {
   "cell_type": "code",
   "execution_count": null,
   "metadata": {},
   "outputs": [],
   "source": [
    "def account(initial_balance):\n",
    "    def deposite(amount):\n",
    "        dispatch['balance'] += amount\n",
    "        return dispatch['balance']\n",
    "    def withdraw(amount):\n",
    "        if dispatch['balance'] < amount:\n",
    "            return 'amount is large balance'\n",
    "        dispatch['balance'] -= amount\n",
    "        return dispatch['balance']\n",
    "\n",
    "    dispatch = {'deposite':deposite, 'withdraw':withdraw, 'balance':initial_balance}\n",
    "    return dispatch\n",
    "\n",
    "\n",
    "def deposite(account, ammount):\n",
    "    return account['deposite'](ammount)\n",
    "def withdraw(account, ammount):\n",
    "    return account['withdraw'](ammount)\n",
    "def check_balance(account):\n",
    "    return account['balance']\n",
    "\n",
    "a = account(200)\n",
    "deposite(a, 20)\n",
    "print(check_balance(a))\n",
    "withdraw(a, 100)\n",
    "print(check_balance(a))\n",
    "withdraw(a, 130)"
   ]
  },
  {
   "cell_type": "markdown",
   "metadata": {},
   "source": [
    "#### 2.4.9 Propagating Constraints\n",
    "Combining nonlocal assignment, list, and dictionary to build a constraints-based system that supports computation in mutiple direction.\n",
    "\n",
    "- map(f, iterable) - Creates iterator over f(x) for each x in iterable\n",
    "- filter(f, iterable) - Creates iterator over x for each x in iterable if f(x)\n",
    "- zip(iter1, iter2) - Creates iterator over co-indexed pairs (x, y) from both input iterables\n",
    "- reversed(iterable) - Creates iterator over all the elements in the input iterable in reverse order\n",
    "- list(iterable) - Creates a list containing all the elements in the input iterable\n",
    "- tuple(iterable) - Creates a tuple containing all the elements in the input iterable\n",
    "- sorted(iterable) - Creates a sorted list containing all the elements in the input iterable"
   ]
  },
  {
   "cell_type": "markdown",
   "metadata": {},
   "source": [
    "\n",
    "### 4.2 Implicit Sequences\n",
    "#### 4.2.4 For Statements\n",
    "The __iter__() and __next__() methods "
   ]
  },
  {
   "cell_type": "code",
   "execution_count": null,
   "metadata": {},
   "outputs": [],
   "source": [
    "count = [1, 2, 3, 4, 5]\n",
    "\n",
    "items = count.__iter__()\n",
    "try:\n",
    "    while True:\n",
    "        item = items.__next__()\n",
    "        print(item)\n",
    "except StopIteration:\n",
    "    pass\n",
    "\n"
   ]
  },
  {
   "cell_type": "markdown",
   "metadata": {},
   "source": [
    "#### 4.2.5 Generators and Yied Statements\n",
    "The generator does not start executing any of the body statements of its generator function until the first time __next__ is invoked. The generator raises a **StopIteration** exception whenever its generator function returns.\n",
    "\n",
    "- A generator function has a yield statement and returns a generator object.\n",
    "- Calling the iter function on a generator object returns the same object without modifying its current state.\n",
    "- The body of a generator function is not evaluated until next is called on a resulting generator object. Calling the next function on a generator object computes and returns the next object in its sequence. If the sequence is exhausted StopIteration is raised.\n",
    "- A generator \"remembers\" its state for the next next call. Therefore,\n",
    "\n",
    "    - the first next call works like this:\n",
    "\n",
    "        - Enter the function and run until the line with yield.\n",
    "        - Return the value in the yield statement, but remember the state of the function for future next calls.\n",
    "    - And subsequent next calls work like this:\n",
    "\n",
    "        - Re-enter the function, start at the line after the yield statement that was previously executed, and run until the next yield statement.\n",
    "        - Return the value in the yield statement, but remember the state of the function for future next calls.\n",
    "        - Calling a generator function returns a brand new generator object (like calling iter on an iterable object).\n",
    "        - A generator should not restart unless it's defined that way. To start over from the first element in a generator, just call the generator function again to create a new generator.\n"
   ]
  },
  {
   "cell_type": "code",
   "execution_count": null,
   "metadata": {},
   "outputs": [],
   "source": [
    "def letters_generator():\n",
    "        current = 'a'\n",
    "        while current <= 'd':\n",
    "            yield current\n",
    "            current = chr(ord(current)+1)\n",
    "            \n",
    "for letter in letters_generator():\n",
    "        print(letter) "
   ]
  },
  {
   "cell_type": "markdown",
   "metadata": {},
   "source": [
    "#### 4.2.6 Iterable Interface\n",
    "An object is iterable if it returns an iterator when its __iter__ method is invoked. Iterable values represent data collections, and they provide a fixed representation that may produce more than one iterator."
   ]
  },
  {
   "cell_type": "markdown",
   "metadata": {},
   "source": [
    "#### 4.2.7 Creating Iterables with Yield\n",
    "**Sequences are not themselves iterators, but instead iterable objects.**"
   ]
  },
  {
   "cell_type": "code",
   "execution_count": null,
   "metadata": {},
   "outputs": [],
   "source": [
    "def all_pairs(s):\n",
    "        for item1 in s:\n",
    "            for item2 in s:\n",
    "                yield (item1, item2)\n",
    "\n",
    "list(all_pairs([1, 2, 3]))\n",
    "\n",
    "def all_pairs1(s):\n",
    "     for item1 in s:\n",
    "          for item2 in s:\n",
    "               print((item1, item2))\n",
    "\n",
    "#list(all_pairs1([1, 2, 3]))\n",
    "all_pairs([1, 2])      "
   ]
  },
  {
   "cell_type": "code",
   "execution_count": null,
   "metadata": {},
   "outputs": [],
   "source": [
    "class LettersWithYield:\n",
    "        def __init__(self, start='a', end='e'):\n",
    "            self.start = start\n",
    "            self.end = end\n",
    "        def __iter__(self):\n",
    "            next_letter = self.start\n",
    "            while next_letter < self.end:\n",
    "                yield next_letter\n",
    "                next_letter = chr(ord(next_letter)+1)\n",
    "\n",
    "\n",
    "letters = LettersWithYield()\n",
    "list(all_pairs(letters))[:3]"
   ]
  },
  {
   "cell_type": "markdown",
   "metadata": {},
   "source": [
    "#### 4.2.10 Python Streams\n",
    "Streams offer another way to represent sequential data implicitly. A stream is a lazily computed linked list  \n",
    " Unlike an Link, the rest of a stream is only computed when it is looked up, rather than being stored in advance.  "
   ]
  },
  {
   "cell_type": "markdown",
   "metadata": {},
   "source": [
    "### 2.5 Object-Oriented Programming\n",
    "OOP is a method for organizing program that brings together many of the ideas introduced in this chapter.  \n",
    "The paradigm of object-oriented programming has its own vocabulary that supports the object metaphor.   \n",
    "We have seen that an object is a data value that has methods and attributes, accessible via dot notation."
   ]
  },
  {
   "cell_type": "markdown",
   "metadata": {},
   "source": [
    "#### 2.5.2 Defining Classes\n",
    "```python\n",
    "class <name>:\n",
    "    <suite>\n",
    "\n",
    "The method of that initializes objects has a special name in python: __init__, is also can be called: constructor for class.\n",
    "As following class Account, for the __init__ method, it receive two parameters, the first one, self, is bound to the newly created Account object.\n",
    "a = Account('HTL') Call the object Account to create a new object that is an instance of Account, then callss/ the constructor function __init__ with two arguments:the newly created object and the string 'HTL.'"
   ]
  },
  {
   "cell_type": "code",
   "execution_count": null,
   "metadata": {},
   "outputs": [],
   "source": [
    "class Account:\n",
    "    def __init__(self, account_holder):\n",
    "        self.balance = 0\n",
    "        self.holder = account_holder\n",
    "    def deposit(self, ammount):\n",
    "        self.balance += ammount\n",
    "        return self.balance\n",
    "    def withdraw(self, ammount):\n",
    "        if self.balance < ammount:\n",
    "            return 'Insufficient funds!'\n",
    "        self.balance -= ammount\n",
    "        return self.balance"
   ]
  },
  {
   "cell_type": "code",
   "execution_count": null,
   "metadata": {},
   "outputs": [],
   "source": [
    "a = Account('HTL') \n",
    "b = Account('hyq')\n",
    "c = a\n",
    "print(a is b)       # False\n",
    "print(a is c)       # True"
   ]
  },
  {
   "cell_type": "code",
   "execution_count": null,
   "metadata": {},
   "outputs": [],
   "source": [
    "htl_account = Account('HTL')\n",
    "htl_account.deposit(10000)\n",
    "htl_account.withdraw(25)\n",
    "htl_account.withdraw(10000)"
   ]
  },
  {
   "cell_type": "markdown",
   "metadata": {},
   "source": [
    "#### 2.5.3   Message Passing and Dot Expressions\n",
    "The attributes of an object include all of its instance attributes, along with all of the attributes (including methods) defined in its class. Methods are attributes of the class that require special handling.  \n",
    "We can see the difference in the interactive interpreter by calling type on the returned values of dot expressions. As an attribute of a class, a method is just a function, but as an attribute of an instance, it is a bound method:\n",
    "- Naming Conventions.  \n",
    "Class names are conventionally written using the CapWords convention (also called CamelCase because the capital letters in the middle of a name look like humps). Method names follow the standard convention of naming functions using lowercased words separated by underscores.\n",
    "- Python's convention dictates that if an attribute name starts with an underscore, it should only be accessed within methods of the class itself, rather than by users of the class."
   ]
  },
  {
   "cell_type": "code",
   "execution_count": null,
   "metadata": {},
   "outputs": [],
   "source": [
    "print(type(Account.deposit))        #<class 'function'>\n",
    "print(type(htl_account.deposit))    #<class 'method'>"
   ]
  },
  {
   "cell_type": "code",
   "execution_count": null,
   "metadata": {},
   "outputs": [],
   "source": [
    "# We can call deposit in two ways\n",
    "Account.deposit(htl_account, 1001)  # The deposit function takes 2 arguments\n",
    "1011\n",
    "htl_account.deposit(1000)           # The deposit method takes 1 argument"
   ]
  },
  {
   "cell_type": "markdown",
   "metadata": {},
   "source": [
    "#### 2.5.4 Class Atrributes\n",
    "- To evaluate a dot expression:\n",
    "    - Evaluate the <expression> to the left of the dot, which yields the object of the dot expression.\n",
    "    - <name> is matched against the instance attributes of that object; if an attribute with that name exists, its value is returned.\n",
    "    - If <name> does not appear among instance attributes, then <name> is looked up in the class, which yields a class attribute value.\n",
    "    - That value is returned unless it is a function, in which case a bound method is returned instead.\n",
    "\n",
    "- In this evaluation procedure, instance attributes are found before class attributes, just as local names have priority over global in an environment.\n"
   ]
  },
  {
   "cell_type": "code",
   "execution_count": null,
   "metadata": {},
   "outputs": [],
   "source": [
    "class Account:\n",
    "    interset = 0.02                         # class attribute\n",
    "    def __init__(self, account_holder):\n",
    "        self.balance = 0\n",
    "        self.holder = account_holder\n",
    "    def deposit(self, ammount):\n",
    "        self.balance += ammount\n",
    "        return self.balance\n",
    "    def withdraw(self, ammount):\n",
    "        if self.balance < ammount:\n",
    "            return 'Insufficient funds!'\n",
    "        self.balance -= ammount\n",
    "        return self.balance"
   ]
  },
  {
   "cell_type": "code",
   "execution_count": null,
   "metadata": {},
   "outputs": [],
   "source": [
    "htl = Account('htl')\n",
    "hyq = Account('hyq')\n",
    "print(htl.interset)\n",
    "print(Account.interset)\n",
    "hyq.interset = 0.5\n",
    "print(htl.interset)\n",
    "print(Account.interset)\n",
    "print(hyq.interset)\n"
   ]
  },
  {
   "cell_type": "code",
   "execution_count": null,
   "metadata": {},
   "outputs": [],
   "source": [
    "print(Account.__dict__)"
   ]
  },
  {
   "cell_type": "code",
   "execution_count": null,
   "metadata": {},
   "outputs": [],
   "source": [
    "Account.__bool__ = lambda self: self.balance != 0\n",
    "jack_account = Account('jack')\n",
    "print(bool(jack_account))\n",
    "jack_account.balance = 10\n",
    "print(bool(jack_account))"
   ]
  },
  {
   "cell_type": "markdown",
   "metadata": {},
   "source": [
    "#### 2.5.5 Inheritance\n",
    "A subclass inherits the attributes of its base class, but may override certain attributes, including certain methods. With inheritance, we only specify what is different between the subclass and the base class. Anything that we leave unspecified in the subclass is automatically assumed to behave just as it would for the base class.\n",
    "Inheritance is meant to represent is-a relationships between classes, which contrast with has-a relationships"
   ]
  },
  {
   "cell_type": "markdown",
   "metadata": {},
   "source": [
    "#### 2.5.6 Using Inheritance\n",
    "- **We specify inheritance by placing an expression that evaluates to the base class in parentheses after the class name.**\n",
    "- If it names an attribute in the class, return the attribute value.\n",
    "- Otherwise, look up the name in the base class, if there is one."
   ]
  },
  {
   "cell_type": "code",
   "execution_count": null,
   "metadata": {},
   "outputs": [],
   "source": [
    "class Account:\n",
    "        \"\"\"A bank account that has a non-negative balance.\"\"\"\n",
    "        interest = 0.02\n",
    "        def __init__(self, account_holder):\n",
    "            self.balance = 0\n",
    "            self.holder = account_holder\n",
    "        def deposit(self, amount):\n",
    "            \"\"\"Increase the account balance by amount and return the new balance.\"\"\"\n",
    "            self.balance = self.balance + amount\n",
    "            return self.balance\n",
    "        def withdraw(self, amount):\n",
    "            \"\"\"Decrease the account balance by amount and return the new balance.\"\"\"\n",
    "            if amount > self.balance:\n",
    "                return 'Insufficient funds'\n",
    "            self.balance = self.balance - amount\n",
    "            return self.balance\n",
    "        \n",
    "class CheckingAccount(Account):\n",
    "        \"\"\"A bank account that charges for withdrawals.\"\"\"\n",
    "        withdraw_charge = 1\n",
    "        interest = 0.01\n",
    "        def withdraw(self, amount):\n",
    "            return Account.withdraw(self, amount + self.withdraw_charge)"
   ]
  },
  {
   "cell_type": "code",
   "execution_count": null,
   "metadata": {},
   "outputs": [],
   "source": [
    "checking = CheckingAccount('htl')       # this is the instance of bank account\n",
    "print(checking.deposit(10))\n",
    "print(checking.withdraw(5))\n",
    "#print(Account.__dict__)"
   ]
  },
  {
   "cell_type": "markdown",
   "metadata": {},
   "source": [
    "#### 2.5.7 Multiple Inheritance\n",
    "Python supports the concept of a subclass inheriting attributes from multiple base classes, a language feature called multiple inheritance.\n",
    "- In this example, Python checks for an attribute name in the following classes, in order, until an attribute with that name is found:\n",
    "**AsSeenOnTVAccount, CheckingAccount, SavingsAccount, Account, object**"
   ]
  },
  {
   "cell_type": "code",
   "execution_count": null,
   "metadata": {},
   "outputs": [],
   "source": [
    "class SavingsAccount(Account):\n",
    "    deposit_charge = 2\n",
    "    def deposit(self, amount):\n",
    "        return Account.deposit(self, amount - self.deposit_charge)\n",
    "    \n",
    "class AsSeenOnTVAccount(CheckingAccount, SavingsAccount):\n",
    "    def __init__(self, account_holder):\n",
    "        self.holder = account_holder\n",
    "        self.balance = 1\n",
    "\n",
    "such_a_deal = AsSeenOnTVAccount('htl')\n",
    "such_a_deal.balance\n",
    "print(such_a_deal.deposit(20))\n",
    "print(such_a_deal.withdraw(5))"
   ]
  },
  {
   "cell_type": "markdown",
   "metadata": {},
   "source": [
    "### 2.6 Implementing Classes and Objects\n",
    "- In this section, we see that classes and objects can themselves be represented using just functions and dictionaries. The purpose of implementing an object system in this way is to illustrate that using the object metaphor does not require a special programming language.\n",
    "- We will focus instead on user-defined classes without multiple inheritance and without introspective behavior (such as returning the class of an instance). "
   ]
  },
  {
   "cell_type": "markdown",
   "metadata": {},
   "source": [
    "#### 2.6.1 Instance\n",
    "- A instance has named atrtibutes, which are stored in a dictionary called **attributes**\n",
    "- Dictionay themselves are abstact data types. We implemented dictionary with lists, we implemented list with pairs, and we implemented pairs with functions. As we implemented an object system in terms of dictionaries.\n",
    "- As following, we pass in a class to **make_instance** as the parameter **cls**\n",
    "- **locals()**. The function will return all local variables at the current position in dictionary type."
   ]
  },
  {
   "cell_type": "code",
   "execution_count": null,
   "metadata": {},
   "outputs": [],
   "source": [
    "# def make_instance(cls):\n",
    "#     \"\"\"Return a new object instance, which is a dispatch dictionary\"\"\"\n",
    "#     def get_value(name):\n",
    "#         if name in attributes:\n",
    "#             return attributes[name]\n",
    "#         else:\n",
    "#             value = cls['get'](name)\n",
    "#             return bind_method(value, instance)\n",
    "#     def set_value(name, value):\n",
    "#         attributes[name] = value \n",
    "#     attributes = {}\n",
    "#     instance = {'get':get_value, 'set':set_value}       # instance is a dispatch dictionary\n",
    "#     return instance\n",
    "\n",
    "# def bind_method(value, instance):\n",
    "#     \"\"\"Return a bound method if value is callable, else return value\"\"\"\n",
    "#     if callable(value):\n",
    "#         def method(*args):\n",
    "#             return value(instance, *args)\n",
    "#         return method\n",
    "#     else:\n",
    "#         return value\n",
    "    \n",
    "\n",
    "# def make_calss(attributes, base_calss=None):\n",
    "#     \"\"\"Return a new class, which is a dispatch dictionary\"\"\"\n",
    "#     def get_value(name):\n",
    "#         if name in attributes:\n",
    "#             return attributes[name]\n",
    "#         elif base_calss is not None:\n",
    "#             return base_calss['get'](name)\n",
    "#     def set_value(name, value):\n",
    "#         attributes[name] = value\n",
    "#     def new(*args):\n",
    "#         return init_instance(cls, *args)\n",
    "#     cls = {'get':get_value, 'set':set_value, 'new':new}\n",
    "#     return cls \n",
    "\n",
    "# def init_instance(cls, *args):\n",
    "#     \"\"\"Return a new object with type cls, initialized with args.\"\"\"\n",
    "#     instance = make_instance(cls)\n",
    "#     init = cls['get']('__init__')\n",
    "#     if init:\n",
    "#         init(instance, *args)\n",
    "#     return instance\n",
    "\n",
    "# def make_account_class():\n",
    "#     \"\"\"Return the Account class, which has deposit and withdraw methods.\"\"\"\n",
    "#     interest = 0.02\n",
    "#     def __init__(self, account_holder):\n",
    "#         self['set']('holder', account_holder)\n",
    "#         self['set']('balance', 0)\n",
    "#     def deposit(self, amount):\n",
    "#         new_balance = self['balance'] + amount\n",
    "#         self['set']('balance', new_balance)\n",
    "#         return self['get']('balance')\n",
    "#     def withdraw(self, amount):\n",
    "#         balance = self['get']('balance')\n",
    "#         if balance < amount:\n",
    "#             return 'Insufficient funds'\n",
    "#         self['set']('balance', balance - amount)\n",
    "#         return self['get']('balance')\n",
    "#     return make_calss(locals())\n",
    "\n",
    "# Account = make_account_class()\n",
    "# kirk_account = Account['new']('kirk')\n",
    "# print(type(Account))\n",
    "# print(Account)"
   ]
  },
  {
   "cell_type": "code",
   "execution_count": null,
   "metadata": {},
   "outputs": [],
   "source": [
    "def add(a, b):\n",
    "    return a + b\n",
    "\n",
    "def abc(c):\n",
    "    a = 2 * c\n",
    "    b = 3 * c\n",
    "    return add(a, b)\n",
    "\n",
    "abc(1)"
   ]
  },
  {
   "cell_type": "code",
   "execution_count": null,
   "metadata": {},
   "outputs": [],
   "source": [
    "def make_instance(cls):\n",
    "    def get_value(name):\n",
    "        if name in attributes:\n",
    "            return attributes[name]\n",
    "        else:\n",
    "            value = cls['get'](name)\n",
    "            return bind_method(value, instance)\n",
    "    def set_value(name, value):\n",
    "        attributes[name] = value \n",
    "    attributes = {}\n",
    "    instance = {'get': get_value, 'set': set_value}\n",
    "    return instance\n",
    "\n",
    "def bind_method(value, instance):\n",
    "    if callable(value):\n",
    "        def method(*args):\n",
    "            return value(instance, *args)\n",
    "        return method\n",
    "    else:\n",
    "        return value\n",
    "\n",
    "def make_calss(attributes, base_calss=None):\n",
    "    def get_value(name):\n",
    "        if name in attributes:\n",
    "            return attributes[name]\n",
    "        elif base_calss is not None:\n",
    "            return base_calss['get'](name)\n",
    "    def set_value(name, value):\n",
    "        attributes[name] = value\n",
    "    def new(*args):\n",
    "        return init_instance(cls, *args)\n",
    "    cls = {'get': get_value, 'set': set_value, 'new': new}\n",
    "    return cls \n",
    "\n",
    "def init_instance(cls, *args):\n",
    "    instance = make_instance(cls)\n",
    "    init = cls['get']('__init__')\n",
    "    if init:\n",
    "        init(instance, *args)\n",
    "    return instance\n",
    "\n",
    "def make_account_class():\n",
    "    interest = 0.02\n",
    "    def __init__(self, account_holder):\n",
    "        self['set']('holder', account_holder)\n",
    "        self['set']('balance', 0)\n",
    "    def deposit(self, amount):\n",
    "        new_balance = self['get']('balance') + amount\n",
    "        self['set']('balance', new_balance)\n",
    "        return self['get']('balance')\n",
    "    def withdraw(self, amount):\n",
    "        balance = self['get']('balance')\n",
    "        if balance < amount:\n",
    "            return 'Insufficient funds'\n",
    "        balance = balance - amount\n",
    "        self['set']('balance', balance)\n",
    "        return self['get']('balance')\n",
    "    return make_calss(locals())\n",
    "        "
   ]
  },
  {
   "cell_type": "code",
   "execution_count": null,
   "metadata": {},
   "outputs": [],
   "source": [
    "Account = make_account_class()\n",
    "htl_account = Account['new']('htl')\n",
    "print(htl_account['get']('holder'))\n",
    "balance = htl_account['get']('balance')\n",
    "print(balance)\n",
    "htl_account['set']('balance', 1000)\n",
    "balance = htl_account['get']('balance')\n",
    "print(balance)\n",
    "htl_account['get']('withdraw')(100)"
   ]
  },
  {
   "cell_type": "markdown",
   "metadata": {},
   "source": [
    "### 2.7 Object Abstraction\n"
   ]
  },
  {
   "cell_type": "markdown",
   "metadata": {},
   "source": [
    "#### 2.7.1 String Conversion\n",
    "- The __init__ method of a class automatically invoked whenever an onject is constructed.\n",
    "- The __str__ method is invoked automatically when printing, and __repr__ is invoked in an interactive session to display values.\n",
    "\n",
    "- All objects in Python have a truth value.  \n",
    "If an object defines the __bool__ method, then Python calls that method to determine its truth value.\n",
    "As example, suppose we want a bank account with 0 balance to be false. We can aff a __bool__ method to the Account class to create this behavior.\n",
    "\n"
   ]
  },
  {
   "cell_type": "code",
   "execution_count": null,
   "metadata": {},
   "outputs": [],
   "source": [
    "Account.__bool__ = lambda self: self.balance != 0\n",
    "bool(Account('jack'))"
   ]
  },
  {
   "cell_type": "markdown",
   "metadata": {},
   "source": [
    "- **Callable objects**\n",
    "In Python, functions are first-class objects, so they can be passed around as data and have atrributes like any other object.  \n",
    "We can use the __call__ method to define a class that behaves like a higher-order function.  \n",
    "As following seen:"
   ]
  },
  {
   "cell_type": "code",
   "execution_count": null,
   "metadata": {},
   "outputs": [],
   "source": [
    "def make_adder(n):\n",
    "    def adder(k):\n",
    "        return n + k\n",
    "    return adder\n",
    "\n",
    "# we can also class\n",
    "class Adder(object):\n",
    "    def __init__(self, n):\n",
    "        self.n = n\n",
    "    def __call__(self, k):\n",
    "        return self.n + k\n",
    "    \n",
    "add_three_obj = Adder(3)\n",
    "add_three_obj(4)"
   ]
  },
  {
   "cell_type": "markdown",
   "metadata": {},
   "source": [
    "#### 2.7.3 Multiple Representations\n",
    "Achieving the complex number type"
   ]
  },
  {
   "cell_type": "code",
   "execution_count": null,
   "metadata": {},
   "outputs": [],
   "source": [
    "from math import atan2, sin, cos, pi\n",
    "class Number:\n",
    "    def __add__(self, other):\n",
    "        return self.add(other)\n",
    "    def __mul__(self, other):\n",
    "        return self.mul(other)\n",
    "    \n",
    "class Complex(Number):\n",
    "    def add(self, other):\n",
    "        return ComplexRI(self.real + other.real, self.imag + other.imag)\n",
    "    def mul(self, other):\n",
    "        magnitude = self.magnitude * other.magnitude\n",
    "        return ComplexMA(magnitude, self.angle + other.angle)\n",
    "\n",
    "class ComplexRI(Complex):\n",
    "    def __init__(self, real, imag):\n",
    "        self.real = real\n",
    "        self.imag = imag\n",
    "    @property\n",
    "    def magnitude(self):\n",
    "        return (self.real ** 2 + self.imag ** 2) ** 0.5\n",
    "    @property\n",
    "    def angle(self):\n",
    "        return atan2(self.imag, self.real)\n",
    "    def __repr__(self):\n",
    "        return 'ComplexRI({0:g}, {1:g})'.format(self.real, self.imag)\n",
    "    \n",
    "class ComplexMA(Complex):\n",
    "    def __init__(self, magnitude, angle):\n",
    "        self.magnitude = magnitude\n",
    "        self.angle = angle\n",
    "    @property\n",
    "    def real(self):\n",
    "        return self.magnitude * cos(self.angle)\n",
    "    @property\n",
    "    def imag(self):\n",
    "        return self.magnitude * sin(self.angle)\n",
    "    def __repr__(self):\n",
    "        return 'ComplexMA({0:g}, {1:g} * pi)'.format(self.magnitude, self.angle / pi)"
   ]
  },
  {
   "cell_type": "code",
   "execution_count": null,
   "metadata": {},
   "outputs": [
    {
     "name": "stdout",
     "output_type": "stream",
     "text": [
      "0\n",
      "1\n",
      "1.0\n",
      "1.5707963267948966\n"
     ]
    },
    {
     "data": {
      "text/plain": [
       "ComplexMA(1, 1 * pi)"
      ]
     },
     "execution_count": 103,
     "metadata": {},
     "output_type": "execute_result"
    }
   ],
   "source": [
    "ri = ComplexRI(0, 1)\n",
    "print(ri.real)\n",
    "print(ri.imag)\n",
    "print(ri.magnitude)\n",
    "print(ri.angle)\n",
    "ri2 = ComplexRI(0, 1)\n",
    "# ri * ri2\n",
    "from operator import add, mul\n",
    "mul(ri, ri2)"
   ]
  },
  {
   "cell_type": "markdown",
   "metadata": {},
   "source": [
    "#### 2.7.4 Generic Function\n",
    "##### Type dispatching\n",
    "One way to implement cross-type operations is to select behavior based on the types of the arguments to a function or method. The idea of type dispatching is to write functions that inspect the type of arguments they receive, then execute code that is appropriate for those types.\n",
    "\n",
    "- The built-in function isinstance takes an object and a class. It returns true if the object has a class that either is or inherits from the given class."
   ]
  },
  {
   "cell_type": "markdown",
   "metadata": {},
   "source": [
    "### 2.8 Efficiency\n",
    "#### 2.8.1 Measuring Efficiency"
   ]
  },
  {
   "cell_type": "code",
   "execution_count": null,
   "metadata": {},
   "outputs": [
    {
     "data": {
      "text/plain": [
       "8"
      ]
     },
     "execution_count": 106,
     "metadata": {},
     "output_type": "execute_result"
    }
   ],
   "source": [
    "def fib(n):\n",
    "    if n <= 2:\n",
    "        return n\n",
    "    else:\n",
    "        return fib(n - 2) + fib(n - 1)\n",
    "    \n",
    "fib(5)"
   ]
  },
  {
   "cell_type": "code",
   "execution_count": null,
   "metadata": {},
   "outputs": [],
   "source": [
    "def count(f):\n",
    "    def counted(*args):\n",
    "        counted.call_count += 1\n",
    "        return f(*args)\n",
    "    counted.call_count = 0\n",
    "    return counted"
   ]
  },
  {
   "cell_type": "code",
   "execution_count": null,
   "metadata": {},
   "outputs": [
    {
     "data": {
      "text/plain": [
       "5"
      ]
     },
     "execution_count": 121,
     "metadata": {},
     "output_type": "execute_result"
    }
   ],
   "source": [
    "fib = count(fib)\n",
    "fib(4)"
   ]
  },
  {
   "cell_type": "code",
   "execution_count": null,
   "metadata": {},
   "outputs": [
    {
     "data": {
      "text/plain": [
       "5"
      ]
     },
     "execution_count": 122,
     "metadata": {},
     "output_type": "execute_result"
    }
   ],
   "source": [
    "fib.call_count"
   ]
  },
  {
   "cell_type": "markdown",
   "metadata": {},
   "source": [
    "### 2.9 Recursive Objects\n",
    "#### Linked List Class\n"
   ]
  },
  {
   "cell_type": "code",
   "execution_count": null,
   "metadata": {},
   "outputs": [
    {
     "data": {
      "text/plain": [
       "<__main__.Link at 0x7f6a948d4520>"
      ]
     },
     "execution_count": 198,
     "metadata": {},
     "output_type": "execute_result"
    }
   ],
   "source": [
    "class Link:\n",
    "    \"\"\"A linked list with a first element and the rest.\"\"\"\n",
    "    empty = ()\n",
    "    def __init__(self, first, rest=empty):\n",
    "        assert rest is Link.empty or isinstance(rest, Link)\n",
    "        self.first = first\n",
    "        self.rest = rest \n",
    "    def __getitem__(self, i):\n",
    "        if i == 0:\n",
    "            return self.first \n",
    "        else:\n",
    "            return self.rest[i - 1]\n",
    "    def __len__(self):\n",
    "        return 1 + len(self.rest)\n",
    "    \n",
    "s = Link(3, Link(4, Link(5)))\n"
   ]
  },
  {
   "cell_type": "code",
   "execution_count": null,
   "metadata": {},
   "outputs": [],
   "source": [
    "def link_expression(s):\n",
    "    \"\"\"Return a string that would evalute to s.\"\"\"\n",
    "    if s.rest is Link.empty:\n",
    "        rest = ''\n",
    "    else:\n",
    "        rest = ', ' + link_expression(s.rest)\n",
    "    return 'Link({0}{1})'.format(s.first, rest)\n",
    "\n",
    "def print_link(s):\n",
    "    \"\"\"Return a string of link using str\"\"\"\n",
    "    string = '<'\n",
    "    while s.rest is not Link.empty:\n",
    "        string += str(s.first) + ' '\n",
    "        s = s.rest\n",
    "    return string + str(s.first) + '>'"
   ]
  },
  {
   "cell_type": "code",
   "execution_count": null,
   "metadata": {},
   "outputs": [
    {
     "data": {
      "text/plain": [
       "'Link(1, Link(2))'"
      ]
     },
     "execution_count": 218,
     "metadata": {},
     "output_type": "execute_result"
    }
   ],
   "source": [
    "\n",
    "s_test = Link(1, Link(2))\n",
    "link_expression(s_test)"
   ]
  },
  {
   "cell_type": "code",
   "execution_count": null,
   "metadata": {},
   "outputs": [
    {
     "data": {
      "text/plain": [
       "'<1 2>'"
      ]
     },
     "execution_count": 221,
     "metadata": {},
     "output_type": "execute_result"
    }
   ],
   "source": [
    "print_link(s_test)"
   ]
  },
  {
   "cell_type": "code",
   "execution_count": null,
   "metadata": {},
   "outputs": [],
   "source": [
    "Link.__repr__ = link_expression\n",
    "Link.__str__ = print_link"
   ]
  },
  {
   "cell_type": "code",
   "execution_count": null,
   "metadata": {},
   "outputs": [
    {
     "name": "stdout",
     "output_type": "stream",
     "text": [
      "<3 4 5>\n"
     ]
    }
   ],
   "source": [
    "s_first = Link(s, Link(1, Link(2, Link(3))))\n",
    "print(s)"
   ]
  },
  {
   "cell_type": "code",
   "execution_count": 6,
   "metadata": {},
   "outputs": [
    {
     "data": {
      "text/plain": [
       "Link(2, Link(3, Link(4)))"
      ]
     },
     "execution_count": 6,
     "metadata": {},
     "output_type": "execute_result"
    }
   ],
   "source": [
    "class Link:\n",
    "    \"\"\"A linked list.\n",
    "\n",
    "    >>> s = Link(1)\n",
    "    >>> s.first\n",
    "    1\n",
    "    >>> s.rest is Link.empty\n",
    "    True\n",
    "    >>> s = Link(2, Link(3, Link(4)))\n",
    "    >>> s.first = 5\n",
    "    >>> s.rest.first = 6\n",
    "    >>> s.rest.rest = Link.empty\n",
    "    >>> s                                    # Displays the contents of repr(s)\n",
    "    Link(5, Link(6))\n",
    "    >>> s.rest = Link(7, Link(Link(8, Link(9))))\n",
    "    >>> s\n",
    "    Link(5, Link(7, Link(Link(8, Link(9)))))\n",
    "    >>> print(s)                             # Prints str(s)\n",
    "    <5 7 <8 9>>\n",
    "    \"\"\"\n",
    "    empty = ()\n",
    "\n",
    "    def __init__(self, first, rest=empty):\n",
    "        assert rest is Link.empty or isinstance(rest, Link)\n",
    "        self.first = first\n",
    "        self.rest = rest\n",
    "\n",
    "    def __repr__(self):\n",
    "        if self.rest is not Link.empty:\n",
    "            rest_repr = ', ' + repr(self.rest)\n",
    "        else:\n",
    "            rest_repr = ''\n",
    "        return 'Link(' + repr(self.first) + rest_repr + ')'\n",
    "\n",
    "    def __str__(self):\n",
    "        string = '<'\n",
    "        while self.rest is not Link.empty:\n",
    "            string += str(self.first) + ' '\n",
    "            self = self.rest\n",
    "        return string + str(self.first) + '>'\n",
    "    \n",
    "s = Link(2, Link(3, Link(4)))    \n",
    "s"
   ]
  },
  {
   "cell_type": "code",
   "execution_count": null,
   "metadata": {},
   "outputs": [
    {
     "data": {
      "text/plain": [
       "Link(3, Link(4, Link(5, Link(3, Link(4, Link(5))))))"
      ]
     },
     "execution_count": 151,
     "metadata": {},
     "output_type": "execute_result"
    }
   ],
   "source": [
    "def extend_link(s, t):\n",
    "    \"\"\"Return the addition of s and t, \n",
    "    builds a linked list containing the elements of one Link instance s followed by the elements of another Link instance t. \"\"\"\n",
    "    if s is Link.empty:\n",
    "        return t\n",
    "    else:\n",
    "        return Link(s.first, extend_link(s.rest, t))\n",
    "    \n",
    "extend_link(s, s)"
   ]
  },
  {
   "cell_type": "code",
   "execution_count": null,
   "metadata": {},
   "outputs": [
    {
     "data": {
      "text/plain": [
       "Link(3, Link(4, Link(5, Link(3, Link(4, Link(5))))))"
      ]
     },
     "execution_count": 152,
     "metadata": {},
     "output_type": "execute_result"
    }
   ],
   "source": [
    "Link.__add__ = extend_link\n",
    "s + s"
   ]
  },
  {
   "cell_type": "code",
   "execution_count": null,
   "metadata": {},
   "outputs": [
    {
     "ename": "AttributeError",
     "evalue": "'set' object has no attribute 'first'",
     "output_type": "error",
     "traceback": [
      "\u001b[0;31m---------------------------------------------------------------------------\u001b[0m",
      "\u001b[0;31mAttributeError\u001b[0m                            Traceback (most recent call last)",
      "\u001b[1;32m/home/ubuntu/htl/cs61a/Notes.ipynb 单元格 150\u001b[0m line \u001b[0;36m1\n\u001b[1;32m      <a href='vscode-notebook-cell://ssh-remote%2Bvlab/home/ubuntu/htl/cs61a/Notes.ipynb#Y310sdnNjb2RlLXJlbW90ZQ%3D%3D?line=8'>9</a>\u001b[0m \u001b[39mdef\u001b[39;00m \u001b[39msquare\u001b[39m(X):\n\u001b[1;32m     <a href='vscode-notebook-cell://ssh-remote%2Bvlab/home/ubuntu/htl/cs61a/Notes.ipynb#Y310sdnNjb2RlLXJlbW90ZQ%3D%3D?line=9'>10</a>\u001b[0m     \u001b[39mreturn\u001b[39;00m X \u001b[39m*\u001b[39m X\n\u001b[0;32m---> <a href='vscode-notebook-cell://ssh-remote%2Bvlab/home/ubuntu/htl/cs61a/Notes.ipynb#Y310sdnNjb2RlLXJlbW90ZQ%3D%3D?line=11'>12</a>\u001b[0m map_link(square, s)\n\u001b[1;32m     <a href='vscode-notebook-cell://ssh-remote%2Bvlab/home/ubuntu/htl/cs61a/Notes.ipynb#Y310sdnNjb2RlLXJlbW90ZQ%3D%3D?line=12'>13</a>\u001b[0m s\n",
      "\u001b[1;32m/home/ubuntu/htl/cs61a/Notes.ipynb 单元格 150\u001b[0m line \u001b[0;36m7\n\u001b[1;32m      <a href='vscode-notebook-cell://ssh-remote%2Bvlab/home/ubuntu/htl/cs61a/Notes.ipynb#Y310sdnNjb2RlLXJlbW90ZQ%3D%3D?line=4'>5</a>\u001b[0m     \u001b[39mreturn\u001b[39;00m s\n\u001b[1;32m      <a href='vscode-notebook-cell://ssh-remote%2Bvlab/home/ubuntu/htl/cs61a/Notes.ipynb#Y310sdnNjb2RlLXJlbW90ZQ%3D%3D?line=5'>6</a>\u001b[0m \u001b[39melse\u001b[39;00m:\n\u001b[0;32m----> <a href='vscode-notebook-cell://ssh-remote%2Bvlab/home/ubuntu/htl/cs61a/Notes.ipynb#Y310sdnNjb2RlLXJlbW90ZQ%3D%3D?line=6'>7</a>\u001b[0m     \u001b[39mreturn\u001b[39;00m Link(f(s\u001b[39m.\u001b[39;49mfirst), map_link(square, s\u001b[39m.\u001b[39mrest))\n",
      "\u001b[0;31mAttributeError\u001b[0m: 'set' object has no attribute 'first'"
     ]
    }
   ],
   "source": [
    "# Link lsit can be generated from another using two higher-orfer functions\n",
    "# mapping link list\n",
    "def map_link(f, s):\n",
    "    if s is Link.empty:\n",
    "        return s\n",
    "    else:\n",
    "        return Link(f(s.first), map_link(square, s.rest))\n",
    "\n",
    "def square(X):\n",
    "    return X * X\n",
    "    \n",
    "map_link(square, s)\n"
   ]
  },
  {
   "cell_type": "code",
   "execution_count": null,
   "metadata": {},
   "outputs": [
    {
     "ename": "AttributeError",
     "evalue": "'set' object has no attribute 'rest'",
     "output_type": "error",
     "traceback": [
      "\u001b[0;31m---------------------------------------------------------------------------\u001b[0m",
      "\u001b[0;31mAttributeError\u001b[0m                            Traceback (most recent call last)",
      "\u001b[1;32m/home/ubuntu/htl/cs61a/Notes.ipynb 单元格 151\u001b[0m line \u001b[0;36m1\n\u001b[1;32m     <a href='vscode-notebook-cell://ssh-remote%2Bvlab/home/ubuntu/htl/cs61a/Notes.ipynb#Y311sdnNjb2RlLXJlbW90ZQ%3D%3D?line=9'>10</a>\u001b[0m             \u001b[39mreturn\u001b[39;00m filtered\n\u001b[1;32m     <a href='vscode-notebook-cell://ssh-remote%2Bvlab/home/ubuntu/htl/cs61a/Notes.ipynb#Y311sdnNjb2RlLXJlbW90ZQ%3D%3D?line=11'>12</a>\u001b[0m odd \u001b[39m=\u001b[39m \u001b[39mlambda\u001b[39;00m x: x \u001b[39m%\u001b[39m \u001b[39m2\u001b[39m \u001b[39m==\u001b[39m \u001b[39m1\u001b[39m\n\u001b[0;32m---> <a href='vscode-notebook-cell://ssh-remote%2Bvlab/home/ubuntu/htl/cs61a/Notes.ipynb#Y311sdnNjb2RlLXJlbW90ZQ%3D%3D?line=12'>13</a>\u001b[0m map_link(square, filter_link(odd, s))\n\u001b[1;32m     <a href='vscode-notebook-cell://ssh-remote%2Bvlab/home/ubuntu/htl/cs61a/Notes.ipynb#Y311sdnNjb2RlLXJlbW90ZQ%3D%3D?line=13'>14</a>\u001b[0m s\n",
      "\u001b[1;32m/home/ubuntu/htl/cs61a/Notes.ipynb 单元格 151\u001b[0m line \u001b[0;36m6\n\u001b[1;32m      <a href='vscode-notebook-cell://ssh-remote%2Bvlab/home/ubuntu/htl/cs61a/Notes.ipynb#Y311sdnNjb2RlLXJlbW90ZQ%3D%3D?line=3'>4</a>\u001b[0m     \u001b[39mreturn\u001b[39;00m s\n\u001b[1;32m      <a href='vscode-notebook-cell://ssh-remote%2Bvlab/home/ubuntu/htl/cs61a/Notes.ipynb#Y311sdnNjb2RlLXJlbW90ZQ%3D%3D?line=4'>5</a>\u001b[0m \u001b[39melse\u001b[39;00m:\n\u001b[0;32m----> <a href='vscode-notebook-cell://ssh-remote%2Bvlab/home/ubuntu/htl/cs61a/Notes.ipynb#Y311sdnNjb2RlLXJlbW90ZQ%3D%3D?line=5'>6</a>\u001b[0m     filtered \u001b[39m=\u001b[39m filter_link(f, s\u001b[39m.\u001b[39;49mrest)\n\u001b[1;32m      <a href='vscode-notebook-cell://ssh-remote%2Bvlab/home/ubuntu/htl/cs61a/Notes.ipynb#Y311sdnNjb2RlLXJlbW90ZQ%3D%3D?line=6'>7</a>\u001b[0m     \u001b[39mif\u001b[39;00m f(s\u001b[39m.\u001b[39mfirst):\n\u001b[1;32m      <a href='vscode-notebook-cell://ssh-remote%2Bvlab/home/ubuntu/htl/cs61a/Notes.ipynb#Y311sdnNjb2RlLXJlbW90ZQ%3D%3D?line=7'>8</a>\u001b[0m         \u001b[39mreturn\u001b[39;00m Link(s\u001b[39m.\u001b[39mfirst, filtered)\n",
      "\u001b[0;31mAttributeError\u001b[0m: 'set' object has no attribute 'rest'"
     ]
    }
   ],
   "source": [
    "# filer link list\n",
    "def filter_link(f, s):\n",
    "    if s is Link.empty:\n",
    "        return s\n",
    "    else:\n",
    "        filtered = filter_link(f, s.rest)\n",
    "        if f(s.first):\n",
    "            return Link(s.first, filtered)\n",
    "        else:\n",
    "            return filtered\n",
    "\n",
    "odd = lambda x: x % 2 == 1\n",
    "map_link(square, filter_link(odd, s))"
   ]
  },
  {
   "cell_type": "code",
   "execution_count": null,
   "metadata": {},
   "outputs": [
    {
     "data": {
      "text/plain": [
       "'3-->4-->5'"
      ]
     },
     "execution_count": 159,
     "metadata": {},
     "output_type": "execute_result"
    }
   ],
   "source": [
    "# recursively constructs a string that contains the elements of a linked list seperated by some separator string. \n",
    "def join_link(s, separator):\n",
    "    if s in Link.empty:\n",
    "        return ''\n",
    "    elif s.rest is Link.empty:\n",
    "        return str(s.first)\n",
    "    else:\n",
    "        return str(s.first) + separator + join_link(s.rest, separator)\n",
    "    \n",
    "join_link(s, '-->')"
   ]
  },
  {
   "cell_type": "markdown",
   "metadata": {},
   "source": [
    "- The count_partitions function from Chapter 1 counted the number of ways to partition an integer n using parts up to size m via a tree-recursive process. With sequences, we can also enumerate these partitions explicitly using a similar process.  \n",
    "We follow the same recursive analysis of the problem as we did while counting: partitioning n using integers up to m involves either\n",
    "\n",
    "- partitioning **n-m** using integers up to **m**, or\n",
    "- partitioning **n** using integers up to **m-1**."
   ]
  },
  {
   "cell_type": "code",
   "execution_count": null,
   "metadata": {},
   "outputs": [
    {
     "ename": "TypeError",
     "evalue": "can only concatenate tuple (not \"Link\") to tuple",
     "output_type": "error",
     "traceback": [
      "\u001b[0;31m---------------------------------------------------------------------------\u001b[0m",
      "\u001b[0;31mTypeError\u001b[0m                                 Traceback (most recent call last)",
      "\u001b[1;32m/home/ubuntu/htl/cs61a/Notes.ipynb 单元格 154\u001b[0m line \u001b[0;36m2\n\u001b[1;32m     <a href='vscode-notebook-cell://ssh-remote%2Bvlab/home/ubuntu/htl/cs61a/Notes.ipynb#Y313sdnNjb2RlLXJlbW90ZQ%3D%3D?line=15'>16</a>\u001b[0m     strings \u001b[39m=\u001b[39m map_link(\u001b[39mlambda\u001b[39;00m s: join_link(s, \u001b[39m'\u001b[39m\u001b[39m + \u001b[39m\u001b[39m'\u001b[39m), lists)\n\u001b[1;32m     <a href='vscode-notebook-cell://ssh-remote%2Bvlab/home/ubuntu/htl/cs61a/Notes.ipynb#Y313sdnNjb2RlLXJlbW90ZQ%3D%3D?line=16'>17</a>\u001b[0m     \u001b[39mprint\u001b[39m(join_link(strings, \u001b[39m'\u001b[39m\u001b[39m\\n\u001b[39;00m\u001b[39m'\u001b[39m))\n\u001b[0;32m---> <a href='vscode-notebook-cell://ssh-remote%2Bvlab/home/ubuntu/htl/cs61a/Notes.ipynb#Y313sdnNjb2RlLXJlbW90ZQ%3D%3D?line=19'>20</a>\u001b[0m partitions(\u001b[39m6\u001b[39;49m, \u001b[39m4\u001b[39;49m)\n",
      "\u001b[1;32m/home/ubuntu/htl/cs61a/Notes.ipynb 单元格 154\u001b[0m line \u001b[0;36m9\n\u001b[1;32m      <a href='vscode-notebook-cell://ssh-remote%2Bvlab/home/ubuntu/htl/cs61a/Notes.ipynb#Y313sdnNjb2RlLXJlbW90ZQ%3D%3D?line=6'>7</a>\u001b[0m     \u001b[39mreturn\u001b[39;00m Link\u001b[39m.\u001b[39mempty\n\u001b[1;32m      <a href='vscode-notebook-cell://ssh-remote%2Bvlab/home/ubuntu/htl/cs61a/Notes.ipynb#Y313sdnNjb2RlLXJlbW90ZQ%3D%3D?line=7'>8</a>\u001b[0m \u001b[39melse\u001b[39;00m:\n\u001b[0;32m----> <a href='vscode-notebook-cell://ssh-remote%2Bvlab/home/ubuntu/htl/cs61a/Notes.ipynb#Y313sdnNjb2RlLXJlbW90ZQ%3D%3D?line=8'>9</a>\u001b[0m     using_m \u001b[39m=\u001b[39m partitions(n \u001b[39m-\u001b[39;49m m, m)\n\u001b[1;32m     <a href='vscode-notebook-cell://ssh-remote%2Bvlab/home/ubuntu/htl/cs61a/Notes.ipynb#Y313sdnNjb2RlLXJlbW90ZQ%3D%3D?line=9'>10</a>\u001b[0m     with_m \u001b[39m=\u001b[39m map_link(\u001b[39mlambda\u001b[39;00m s: Link(m, s), using_m)\n\u001b[1;32m     <a href='vscode-notebook-cell://ssh-remote%2Bvlab/home/ubuntu/htl/cs61a/Notes.ipynb#Y313sdnNjb2RlLXJlbW90ZQ%3D%3D?line=10'>11</a>\u001b[0m     without_m \u001b[39m=\u001b[39m partitions(n , m \u001b[39m-\u001b[39m \u001b[39m1\u001b[39m)\n",
      "\u001b[1;32m/home/ubuntu/htl/cs61a/Notes.ipynb 单元格 154\u001b[0m line \u001b[0;36m1\n\u001b[1;32m      <a href='vscode-notebook-cell://ssh-remote%2Bvlab/home/ubuntu/htl/cs61a/Notes.ipynb#Y313sdnNjb2RlLXJlbW90ZQ%3D%3D?line=8'>9</a>\u001b[0m using_m \u001b[39m=\u001b[39m partitions(n \u001b[39m-\u001b[39m m, m)\n\u001b[1;32m     <a href='vscode-notebook-cell://ssh-remote%2Bvlab/home/ubuntu/htl/cs61a/Notes.ipynb#Y313sdnNjb2RlLXJlbW90ZQ%3D%3D?line=9'>10</a>\u001b[0m with_m \u001b[39m=\u001b[39m map_link(\u001b[39mlambda\u001b[39;00m s: Link(m, s), using_m)\n\u001b[0;32m---> <a href='vscode-notebook-cell://ssh-remote%2Bvlab/home/ubuntu/htl/cs61a/Notes.ipynb#Y313sdnNjb2RlLXJlbW90ZQ%3D%3D?line=10'>11</a>\u001b[0m without_m \u001b[39m=\u001b[39m partitions(n , m \u001b[39m-\u001b[39;49m \u001b[39m1\u001b[39;49m)\n\u001b[1;32m     <a href='vscode-notebook-cell://ssh-remote%2Bvlab/home/ubuntu/htl/cs61a/Notes.ipynb#Y313sdnNjb2RlLXJlbW90ZQ%3D%3D?line=11'>12</a>\u001b[0m \u001b[39mreturn\u001b[39;00m with_m \u001b[39m+\u001b[39m without_m\n",
      "\u001b[1;32m/home/ubuntu/htl/cs61a/Notes.ipynb 单元格 154\u001b[0m line \u001b[0;36m1\n\u001b[1;32m     <a href='vscode-notebook-cell://ssh-remote%2Bvlab/home/ubuntu/htl/cs61a/Notes.ipynb#Y313sdnNjb2RlLXJlbW90ZQ%3D%3D?line=9'>10</a>\u001b[0m with_m \u001b[39m=\u001b[39m map_link(\u001b[39mlambda\u001b[39;00m s: Link(m, s), using_m)\n\u001b[1;32m     <a href='vscode-notebook-cell://ssh-remote%2Bvlab/home/ubuntu/htl/cs61a/Notes.ipynb#Y313sdnNjb2RlLXJlbW90ZQ%3D%3D?line=10'>11</a>\u001b[0m without_m \u001b[39m=\u001b[39m partitions(n , m \u001b[39m-\u001b[39m \u001b[39m1\u001b[39m)\n\u001b[0;32m---> <a href='vscode-notebook-cell://ssh-remote%2Bvlab/home/ubuntu/htl/cs61a/Notes.ipynb#Y313sdnNjb2RlLXJlbW90ZQ%3D%3D?line=11'>12</a>\u001b[0m \u001b[39mreturn\u001b[39;00m with_m \u001b[39m+\u001b[39;49m without_m\n",
      "\u001b[0;31mTypeError\u001b[0m: can only concatenate tuple (not \"Link\") to tuple"
     ]
    }
   ],
   "source": [
    "def partitions(n, m):\n",
    "    \"\"\"Return a linked list of partitions of n using parts of up to m.\n",
    "    Each partition is represented as a linked list.\"\"\"\n",
    "    if n == 0:\n",
    "        return Link(Link.empty) # A list containing the empty partition\n",
    "    elif n < 0 or  m == 0:\n",
    "        return Link.empty\n",
    "    else:\n",
    "        using_m = partitions(n - m, m)\n",
    "        with_m = map_link(lambda s: Link(m, s), using_m)\n",
    "        without_m = partitions(n , m - 1)\n",
    "        return with_m + without_m\n",
    "    \n",
    "def print_partitions(n, m):    \n",
    "    lists = partitions(n, m)\n",
    "    strings = map_link(lambda s: join_link(s, ' + '), lists)\n",
    "    print(join_link(strings, '\\n'))\n",
    "\n",
    "print_partitions(6, 4)"
   ]
  },
  {
   "cell_type": "markdown",
   "metadata": {},
   "source": [
    "#### 2.9.2 Tree Class"
   ]
  },
  {
   "cell_type": "code",
   "execution_count": null,
   "metadata": {},
   "outputs": [
    {
     "data": {
      "text/plain": [
       "Tree(34, (Tree(13, (Tree(5, (Tree(2, (Tree(1), Tree(1, (Tree(0), Tree(1))))), Tree(3, (Tree(1, (Tree(0), Tree(1))), Tree(2, (Tree(1), Tree(1, (Tree(0), Tree(1))))))))), Tree(8, (Tree(3, (Tree(1, (Tree(0), Tree(1))), Tree(2, (Tree(1), Tree(1, (Tree(0), Tree(1))))))), Tree(5, (Tree(2, (Tree(1), Tree(1, (Tree(0), Tree(1))))), Tree(3, (Tree(1, (Tree(0), Tree(1))), Tree(2, (Tree(1), Tree(1, (Tree(0), Tree(1))))))))))))), Tree(21, (Tree(8, (Tree(3, (Tree(1, (Tree(0), Tree(1))), Tree(2, (Tree(1), Tree(1, (Tree(0), Tree(1))))))), Tree(5, (Tree(2, (Tree(1), Tree(1, (Tree(0), Tree(1))))), Tree(3, (Tree(1, (Tree(0), Tree(1))), Tree(2, (Tree(1), Tree(1, (Tree(0), Tree(1))))))))))), Tree(13, (Tree(5, (Tree(2, (Tree(1), Tree(1, (Tree(0), Tree(1))))), Tree(3, (Tree(1, (Tree(0), Tree(1))), Tree(2, (Tree(1), Tree(1, (Tree(0), Tree(1))))))))), Tree(8, (Tree(3, (Tree(1, (Tree(0), Tree(1))), Tree(2, (Tree(1), Tree(1, (Tree(0), Tree(1))))))), Tree(5, (Tree(2, (Tree(1), Tree(1, (Tree(0), Tree(1))))), Tree(3, (Tree(1, (Tree(0), Tree(1))), Tree(2, (Tree(1), Tree(1, (Tree(0), Tree(1)))))))))))))))))"
      ]
     },
     "execution_count": 187,
     "metadata": {},
     "output_type": "execute_result"
    }
   ],
   "source": [
    "class Tree:\n",
    "    def __init__(self, label, branches=()):\n",
    "        self.label = label\n",
    "        for branch in branches:\n",
    "            assert isinstance(branch, Tree)\n",
    "        self.branches = branches\n",
    "    def __repr__(self):\n",
    "        if self.branches:\n",
    "            return 'Tree({0}, {1})'.format(self.label, self.branches)\n",
    "        else:\n",
    "            return 'Tree({0})'.format(self.label)\n",
    "    def is_leaf(self):\n",
    "        return not self.branches\n",
    "    \n",
    "\n",
    "def fib_tree(n):\n",
    "    if n == 1:\n",
    "        return Tree(0)\n",
    "    elif n == 2:\n",
    "        return Tree(1)\n",
    "    else:\n",
    "        left = fib_tree(n - 2)\n",
    "        right = fib_tree(n - 1)\n",
    "        return Tree(left.label + right.label, (left, right))\n",
    "    \n",
    "fib_tree(10)"
   ]
  },
  {
   "cell_type": "markdown",
   "metadata": {},
   "source": [
    "#### 2.9.3 Sets\n",
    "- Sets are unordered collections, and so the printed ordering may differ from the element ordering in the set literal.\n",
    "- Python sets support a variety of operations, including membership tests, length computation, and the standard set operations of union and intersection\n",
    "- The predicates isdisjoint, issubset, and issuperset provide set comparison"
   ]
  },
  {
   "cell_type": "code",
   "execution_count": null,
   "metadata": {},
   "outputs": [
    {
     "data": {
      "text/plain": [
       "{1, 2, 3, 4, 44, 55}"
      ]
     },
     "execution_count": 188,
     "metadata": {},
     "output_type": "execute_result"
    }
   ],
   "source": [
    "s = {3, 2, 1, 44, 4, 55, 4}\n",
    "s"
   ]
  },
  {
   "cell_type": "markdown",
   "metadata": {},
   "source": [
    "- Sets as unordered sequences\n",
    "One way to represent a set is as a sequence in which no element appears more than once. The empty set is represented by the empty sequence. Membership testing walks recursively through the list."
   ]
  },
  {
   "cell_type": "markdown",
   "metadata": {},
   "source": [
    "- Sets as binary search trees\n",
    "In all binary search trees, all elements in the left branch be smaller than the entry at the root, and that all elements in the right subtree be larger."
   ]
  },
  {
   "cell_type": "markdown",
   "metadata": {},
   "source": [
    "## Chapter 3: Interpreting Computer Programs"
   ]
  },
  {
   "cell_type": "markdown",
   "metadata": {},
   "source": [
    "### 3.2 Function Programming\n",
    "- Our object of study, a subset of the Scheme language, employs a very similar model of compuatation to Python's, but uses only expressions(no statements), specializes in symbolic computation, and employs only **immutable values**.\n",
    "- Scheme is a dialect of Lisp, the second-oldest programming language that is still widely used today (after Fortran). The community of Lisp programmers has continued to thrive for decades, and new dialects of Lisp such as Clojure have some of the fastest growing communities of developers of any modern programming language."
   ]
  },
  {
   "cell_type": "markdown",
   "metadata": {},
   "source": [
    "#### 3.2.1 Expressions\n",
    "- A call expression consists of an operatorer expression followed by zero or more operand sub-expressions, as in Python. Both the operator and operand are contained within parentheses.\n",
    "- Scheme exclusively uses prefix notation.\n",
    "- The **if expression** in scheme is a special form, meaning that while it looks syntactically like a call expression. Such as the following:\n",
    "```scheme\n",
    "(if <predicate> <consequent> <alternative>)\n",
    "```\n",
    "#### 3.2.2 define\n",
    "- **define** is also a special form\n",
    "- For the grammer of the scheme, I think the important is the **parentheses**. It seem that every expression need to add parentheses.  \n",
    "- The general form a procedure definition is:\n",
    "```scheme\n",
    "(define (<name> <formal parameters>) <body>)\n",
    "\n",
    "```\n",
    "- The **lambda** expression\n",
    "```scheme\n",
    "lambda (<formal-parameters> <body>)\n",
    "```\n",
    "#### 3.2.4 Symbolic Data\n",
    "- In scheme, we refer to the symbols a and b rather valuesn by preceding them a single **quotation** mark:\n",
    "```scheme\n",
    "(define a 1)\n",
    "(define b 1)\n",
    "(list a b)\n",
    "(1 2)\n",
    "(list 'a 'b)\n",
    "(a b)\n",
    "(list 'a b)\n",
    "(a 1)\n",
    "```\n",
    "- Lists in scheme\n",
    "    - **cons**: Two-argument procedure that creates a linked list\n",
    "    - **car**: Procedure that returns the first element of a list\n",
    "    - **cdr**: Procedure that returns the rest of a list\n",
    "    - **nil**: The empty list\n",
    "\n",
    "\n",
    "#### 3.2.5 Turtle graphics\n",
    "- The implementation of scheme that serves as a compation to text includes **Turtle graphics**.\n"
   ]
  },
  {
   "cell_type": "markdown",
   "metadata": {},
   "source": [
    "### 3.3 Exceptions\n",
    "- Raising exceptions  \n",
    "In general, any exception instance can bse raised with the **raise** statement. The most common use of raise constructs an exception instance and raises it.\n",
    "```python\n",
    ">>> raise Exception('An error occurred')\n",
    "```\n",
    "- Handing exceptions:\n",
    "```python\n",
    "try:\n",
    "    <try suite>\n",
    "except <exception class> as <name>:\n",
    "    <except suite>\n",
    "\n",
    "\"\"\"For example\"\"\"\n",
    "try:\n",
    "    x = 1 / 1\n",
    "except ZeroDivisionError as e:\n",
    "    print('handling a', type(e))\n",
    "    x = 0\n",
    "```"
   ]
  },
  {
   "cell_type": "code",
   "execution_count": 4,
   "metadata": {},
   "outputs": [
    {
     "name": "stdout",
     "output_type": "stream",
     "text": [
      "handling a <class 'ZeroDivisionError'>\n"
     ]
    }
   ],
   "source": [
    "try:\n",
    "    x = 1 / 0\n",
    "except ZeroDivisionError as e:\n",
    "    print('handling a', type(e))\n",
    "    x = 0"
   ]
  },
  {
   "cell_type": "markdown",
   "metadata": {},
   "source": [
    "### 3.4 Interpreters for Languages with Combination\n",
    " - ***Metalinguistic abstraction***: establishing new languages --- plays an important role in all branches of engineering design. \n",
    " - First define an interpreter for a language that is a limited subset of Scheme, called **Calculator**."
   ]
  },
  {
   "cell_type": "markdown",
   "metadata": {},
   "source": [
    "#### 3.4.1 A Scheme-Syntax Calculator\n",
    "It can achieve these operation\n",
    "- addition\n",
    "- substraction\n",
    "- multiplication\n",
    "- division\n"
   ]
  }
 ],
 "metadata": {
  "kernelspec": {
   "display_name": "Python 3",
   "language": "python",
   "name": "python3"
  },
  "language_info": {
   "codemirror_mode": {
    "name": "ipython",
    "version": 3
   },
   "file_extension": ".py",
   "mimetype": "text/x-python",
   "name": "python",
   "nbconvert_exporter": "python",
   "pygments_lexer": "ipython3",
   "version": "3.10.12"
  }
 },
 "nbformat": 4,
 "nbformat_minor": 2
}
